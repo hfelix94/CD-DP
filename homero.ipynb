{
 "cells": [
  {
   "cell_type": "code",
   "execution_count": 17,
   "metadata": {
    "collapsed": true
   },
   "outputs": [],
   "source": [
    "import numpy as np \n",
    "import pandas as pd\n",
    "%matplotlib inline"
   ]
  },
  {
   "cell_type": "code",
   "execution_count": 20,
   "metadata": {
    "collapsed": false
   },
   "outputs": [
    {
     "data": {
      "text/plain": [
       "<matplotlib.axes._subplots.AxesSubplot at 0x16ac5f5aa90>"
      ]
     },
     "execution_count": 20,
     "metadata": {},
     "output_type": "execute_result"
    },
    {
     "data": {
      "image/png": "[encoded data removed]",
      "text/plain": [
       "<matplotlib.figure.Figure at 0x16ac5f64c88>"
      ]
     },
     "metadata": {},
     "output_type": "display_data"
    }
   ],
   "source": [
    "xAc = [15.05, 14.09, 15.67, 14.97, 15.37, 15.02, 14.38, 15.33, 15.61, 15.25, 14.74, 15.53, 15.06]\n",
    "\n",
    "xBc = [14.78, 14.95, 15.09, 14.97, 15.45, 14.76, 14.88, 14.75, 15.18, 15.29, 14.7, 15.31, 15.02, 14.57, 15.57]\n",
    "\n",
    "z = xAc + xBc\n",
    "i=0\n",
    "media = []\n",
    "\n",
    "while i <100000:\n",
    "    np.random.shuffle(z)\n",
    "    a = (z[0:14])\n",
    "    b = (z[14:])\n",
    "    media.append(pd.Series(a).mean()-pd.Series(b).mean())\n",
    "    i += 1\n",
    "pd.Series(media).hist(normed=True)\n",
    "\n",
    "    \n",
    "    \n",
    "    "
   ]
  },
  {
   "cell_type": "code",
   "execution_count": 21,
   "metadata": {
    "collapsed": false
   },
   "outputs": [
    {
     "data": {
      "text/plain": [
       "<matplotlib.axes._subplots.AxesSubplot at 0x16ac6242208>"
      ]
     },
     "execution_count": 21,
     "metadata": {},
     "output_type": "execute_result"
    },
    {
     "data": {
      "image/png": "[encoded data removed]",
      "text/plain": [
       "<matplotlib.figure.Figure at 0x16ac62464e0>"
      ]
     },
     "metadata": {},
     "output_type": "display_data"
    }
   ],
   "source": [
    "xAc = [15.05, 14.09, 15.67, 14.97, 15.37, 15.02, 14.38, 15.33, 15.61, 15.25, 14.74, 15.53, 15.06]\n",
    "\n",
    "xBc = [14.78, 14.95, 15.09, 14.97, 15.45, 14.76, 14.88, 14.75, 15.18, 15.29, 14.7, 15.31, 15.02, 14.57, 15.57]\n",
    "\n",
    "z = xAc + xBc\n",
    "i=0\n",
    "media = []\n",
    "\n",
    "while i <100000:\n",
    "    np.random.shuffle(z)\n",
    "    a = (z[0:14])\n",
    "    b = (z[14:])\n",
    "    media.append(pd.Series(a).var(ddof=1)-pd.Series(b).var(ddof=1))\n",
    "    i += 1\n",
    "pd.Series(media).hist(normed=True)\n"
   ]
  },
  {
   "cell_type": "code",
   "execution_count": null,
   "metadata": {
    "collapsed": true
   },
   "outputs": [],
   "source": []
  }
 ],
 "metadata": {
  "kernelspec": {
   "display_name": "Python [Root]",
   "language": "python",
   "name": "Python [Root]"
  },
  "language_info": {
   "codemirror_mode": {
    "name": "ipython",
    "version": 3
   },
   "file_extension": ".py",
   "mimetype": "text/x-python",
   "name": "python",
   "nbconvert_exporter": "python",
   "pygments_lexer": "ipython3",
   "version": "3.5.2"
  }
 },
 "nbformat": 4,
 "nbformat_minor": 0
}
