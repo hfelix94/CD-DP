{
 "cells": [
  {
   "cell_type": "markdown",
   "metadata": {},
   "source": [
    "# MiniProjeto 1 - Identificação de distribuições\n",
    "\n",
    "## Objetivo\n",
    "\n",
    "O objetivo deste projeto é identificar quais distribuições (pdf - funções de densidade de probabilidade - no caso contínuo, ou pmf - funções de probabilidade - no caso discreto) descrevem bem as variáveis quantitativas extraídas de *datasets*.\n",
    "\n",
    "O resultado final esperado é um relatório que identifique, com bons argumentos, modelos probabilísticos para uma variável quantitativa e uma variável qualitativa de um ou mais *datasets*.\n",
    "\n",
    "Este projeto é **estritamente individual**.\n",
    "\n",
    "\n",
    "## O que deve ser feito\n",
    "\n",
    "Você precisa escolher duas variáveis, uma quantitativa e uma qualitativa, em *datasets* públicos de sua escolha. As duas variáveis podem vir do mesmo *dataset*.\n",
    "\n",
    "Limpe e prepare os dados para processamento (tratando valores `NaN`, `N/A`, por exemplo). Fique atento ao dicionário de dados (se houver) para identificar quais colunas de fato são quantitativas e eventualmente remover valores inválidos.\n",
    "\n",
    "A seguir, estude as variáveis escolhidas e procure identificar DUAS possíveis funções que podem descrever sua probabilidade de ocorrência.\n",
    "\n",
    "Sugerimos que o trabalho siga as seguintes fases:\n",
    "\n",
    "1. Seleção de um *dataset* e escolha de variáveis quantitativas adequadas.\n",
    "2. Limpeza do *dataset*, se necessário.\n",
    "3. Inspeção visual da distribuição das variáveis escolhidas - usando um histograma, por exemplo.\n",
    "4. Formulação de hipóteses sobre a forma da distribuição dos dados.\n",
    "5. Tentativa de estimar os parâmetros da família de distribuições escolhida no item acima a partir dos dados. Obs: As distribuições do pacote `scipy.stats` têm uma função chamada `fit()` que procura estimar os parâmetros a partir do conjunto de dados. Cada distribuição possui parâmetros estimados diferentes.\n",
    "6. Análise do histrograma vs. o plot teórico de cada distribuição escolhida.\n",
    "7. Análise da frequência relativa acumulada vs. a função de probabilidade acumulada (cdf) de cada.\n",
    "8. Análise do Q-Q-Plot (quantil amostral vs. quantil teórico).\n",
    "9. Teste de aderência para a distribuição. Como você irá comparar o resultado dos dois ajustes?\n",
    "10. Escreva uma conclusão sobre os resultados obtidos.\n",
    "\n",
    "Não há restrições em relação à base de dados a utilizar, **desde que não seja a mesma base da PNAD já usada na disciplina**. Aconselha-se evitar variáveis de bases com pequeno tamanho amostral.\n",
    "\n",
    "Tornamos disponível uma [Lista de datasets](https://docs.google.com/document/d/1zzc__WZp-gVrpK6zHqfDZr0vyqz2FwyTKIM2TtoEZ-g/pub \"Datasets interessantes\") que pode ajudar nesta fase do trabalho. Você não precisa ficar restrito a esta lista.\n",
    "\n",
    "## Entregáveis esperados e datas\n",
    "\n",
    "Item | Data | Descrição\n",
    "---|---|---\n",
    "Indicação de dataset | 14/09/2016 | Indicar datasets e variáveis de interesse.\n",
    "Relatório final| 21/09/2016| Notebook completo com os itens descritos acima.\n"
   ]
  },
  {
   "cell_type": "code",
   "execution_count": 1,
   "metadata": {
    "collapsed": false
   },
   "outputs": [],
   "source": [
    "%matplotlib inline\n",
    "import pandas as pd\n",
    "from scipy.stats import norm, expon, chi2\n",
    "import numpy as np\n",
    "import matplotlib.pyplot as plt\n",
    "import os \n",
    "from numpy import linspace\n",
    "\n",
    "#importantando todas as bibliotecas necessárias.\n"
   ]
  },
  {
   "cell_type": "code",
   "execution_count": 4,
   "metadata": {
    "collapsed": false
   },
   "outputs": [],
   "source": [
    "pib = pd.read_csv('pib_percapita.csv', encoding = \"ISO-8859-1\") #chamando a base de dados\n"
   ]
  },
  {
   "cell_type": "code",
   "execution_count": 5,
   "metadata": {
    "collapsed": false
   },
   "outputs": [],
   "source": [
    "PIB = pib[pib[\"PIB\"] ==0 ] #este primeiro filtro foi utilizado para . "
   ]
  },
  {
   "cell_type": "code",
   "execution_count": 6,
   "metadata": {
    "collapsed": false
   },
   "outputs": [
    {
     "data": {
      "text/plain": [
       "3500     435\n",
       "4000     393\n",
       "3000     389\n",
       "7000     321\n",
       "10000    320\n",
       "9000     300\n",
       "4500     289\n",
       "8000     287\n",
       "11000    280\n",
       "12000    251\n",
       "5000     217\n",
       "14000    189\n",
       "13000    182\n",
       "5500     170\n",
       "6000     164\n",
       "2500     150\n",
       "15000    148\n",
       "6500     138\n",
       "16000    121\n",
       "17000     97\n",
       "18000     79\n",
       "19000     73\n",
       "20000     68\n",
       "21000     52\n",
       "24000     38\n",
       "22000     38\n",
       "23000     36\n",
       "25000     31\n",
       "26000     29\n",
       "28000     22\n",
       "27000     21\n",
       "29000     20\n",
       "2000      14\n",
       "1500       2\n",
       "1000       0\n",
       "500        0\n",
       "0          0\n",
       "Name: PIB_percapita, dtype: int64"
      ]
     },
     "execution_count": 6,
     "metadata": {},
     "output_type": "execute_result"
    }
   ],
   "source": [
    "pib.PIB_percapita.describe() #comando para dividir as pessoas por faixas de renda. \n",
    "faixas = (0, 500,1000,1500,2000,2500,3000,3500,4000,4500,5000, 5500, 6000, 6500, 7000, 8000, 9000, 10000, 11000, 12000, 13000, 14000, 15000, 16000, 17000, 18000, 19000, 20000, 21000, 22000, 23000, 24000, 25000, 26000, 27000, 28000, 29000, 30000)\n",
    "pib.PIB_percapita.value_counts(bins=faixas) \n",
    "\n",
    "#TESTE"
   ]
  },
  {
   "cell_type": "code",
   "execution_count": 62,
   "metadata": {
    "collapsed": false,
    "scrolled": true
   },
   "outputs": [
    {
     "name": "stdout",
     "output_type": "stream",
     "text": [
      "5770.28222656\n",
      "42109.9244751\n"
     ]
    },
    {
     "data": {
      "text/plain": [
       "[<matplotlib.lines.Line2D at 0x29e22b26470>]"
      ]
     },
     "execution_count": 62,
     "metadata": {},
     "output_type": "execute_result"
    },
    {
     "data": {
      "image/png": "[encoded data removed]",
      "text/plain": [
       "<matplotlib.figure.Figure at 0x29e22a3fba8>"
      ]
     },
     "metadata": {},
     "output_type": "display_data"
    }
   ],
   "source": [
    "\n",
    "x = pib[pib.PIB_percapita < 17600].PIB_percapita.hist(normed=True) #gráficos de divisão de renda por faixas de interesse.\n",
    "print(mean)\n",
    "print(std)\n",
    "\n",
    "\n",
    "mu = mean\n",
    "sigma = std\n",
    "x = np.linspace(100, 20000, 100000)\n",
    "plt.plot(x, norm.pdf(x,loc=mu,scale=sigma),'red',alpha=0.8,lw=4) # Plota a densidade de probabilidade de distribuição"
   ]
  },
  {
   "cell_type": "markdown",
   "metadata": {},
   "source": [
    "Plotamos um histograma da variável PIB percapita, para melhorar o filtro utulizamos um teto de 20 salários mínimos. O salário mínimo de 2016 é  880,00. 20 salários somam um total de 17.600,00. O objetivo deste corte é excluir as rendas altas, acima de 20 salários. Em outras palavras retirar outliers dos dados. \n",
    "\n",
    "Analisando os resultados do gráfico, podemos perceber um outliers entre 4000 e 6000 reais. No primeiro momento vamos levar esse dado em consideração, na escolha de um modelo estátistico discreto. Que melhor se aproxime do nosso histograma sobre PIB percapita. Estudamos a fundo os modelos, percebuma semelhança muito grande com o modelo exponencial n=10."
   ]
  },
  {
   "cell_type": "code",
   "execution_count": 55,
   "metadata": {
    "collapsed": false
   },
   "outputs": [
    {
     "name": "stdout",
     "output_type": "stream",
     "text": [
      "5770.28222656\n",
      "42109.9244751\n"
     ]
    },
    {
     "data": {
      "text/plain": [
       "[<matplotlib.lines.Line2D at 0x29e229ad400>]"
      ]
     },
     "execution_count": 55,
     "metadata": {},
     "output_type": "execute_result"
    },
    {
     "data": {
      "image/png": "[encoded data removed]",
      "text/plain": [
       "<matplotlib.figure.Figure at 0x29e22925828>"
      ]
     },
     "metadata": {},
     "output_type": "display_data"
    }
   ],
   "source": [
    "x = expon.fit(pib[pib.PIB_percapita < 17600].PIB_percapita)\n",
    "\n",
    "print(mean)\n",
    "print(std)\n",
    "\n",
    "\n",
    "mu = mean\n",
    "sigma = std\n",
    "x = np.linspace(10, 100000, 17600)\n",
    "plt.plot(x, norm.pdf(x,loc=mu,scale=sigma),'red',alpha=0.8,lw=4) # Plota a densidade de probabilidade de distribuição"
   ]
  },
  {
   "cell_type": "code",
   "execution_count": 10,
   "metadata": {
    "collapsed": false,
    "scrolled": true
   },
   "outputs": [
    {
     "data": {
      "text/plain": [
       "count     4817.000000\n",
       "mean      7961.272620\n",
       "std       4076.827786\n",
       "min       1929.969971\n",
       "25%       4239.149902\n",
       "50%       7163.270020\n",
       "75%      11065.639648\n",
       "max      17588.380859\n",
       "Name: PIB_percapita, dtype: float64"
      ]
     },
     "execution_count": 10,
     "metadata": {},
     "output_type": "execute_result"
    }
   ],
   "source": [
    "pib[pib.PIB_percapita < 17600].PIB_percapita.describe()"
   ]
  },
  {
   "cell_type": "code",
   "execution_count": 11,
   "metadata": {
    "collapsed": false
   },
   "outputs": [
    {
     "name": "stdout",
     "output_type": "stream",
     "text": [
      "0.905982224216\n",
      "8170.38654779\n"
     ]
    }
   ],
   "source": [
    "mean = 7961.272620\n",
    "std = 4076.827786\n",
    "print(expon.cdf(17600, mean, std)) #cdf é a integral da pdf.\n",
    "print(expon.ppf(0.05, mean, std)) #cdf é a integral da pdf.\n",
    "\n"
   ]
  },
  {
   "cell_type": "code",
   "execution_count": 12,
   "metadata": {
    "collapsed": false
   },
   "outputs": [
    {
     "data": {
      "text/plain": [
       "count    5.566000e+03\n",
       "mean     5.820203e+05\n",
       "std      6.345809e+06\n",
       "min      5.770282e+03\n",
       "25%      3.842817e+04\n",
       "50%      8.059172e+04\n",
       "75%      2.062760e+05\n",
       "max      3.893172e+08\n",
       "Name: PIB, dtype: float64"
      ]
     },
     "execution_count": 12,
     "metadata": {},
     "output_type": "execute_result"
    }
   ],
   "source": [
    "pib.PIB.describe()"
   ]
  },
  {
   "cell_type": "code",
   "execution_count": 13,
   "metadata": {
    "collapsed": false
   },
   "outputs": [
    {
     "name": "stdout",
     "output_type": "stream",
     "text": [
      "0.999999842952\n",
      "907517.749164\n"
     ]
    }
   ],
   "source": [
    "mean = 5.820203e+05\n",
    "std = 6.345809e+06\n",
    "print(expon.cdf(100000000, mean, std)) #cdf é a integral da pdf.\n",
    "print(expon.ppf(0.05, mean, std)) #cdf é a integral da pdf."
   ]
  },
  {
   "cell_type": "code",
   "execution_count": 30,
   "metadata": {
    "collapsed": false
   },
   "outputs": [
    {
     "name": "stdout",
     "output_type": "stream",
     "text": [
      "5770.28222656\n",
      "42109.9244751\n"
     ]
    },
    {
     "data": {
      "text/plain": [
       "[<matplotlib.lines.Line2D at 0x29e1a8da438>]"
      ]
     },
     "execution_count": 30,
     "metadata": {},
     "output_type": "execute_result"
    },
    {
     "data": {
      "image/png": "[encoded data removed]",
      "text/plain": [
       "<matplotlib.figure.Figure at 0x29e1dd6f8d0>"
      ]
     },
     "metadata": {},
     "output_type": "display_data"
    }
   ],
   "source": [
    "x = pib[pib.PIB < 100000].PIB.hist(normed=True)\n",
    "print(mean)\n",
    "print(std)\n",
    "\n",
    "mu = mean\n",
    "sigma = std\n",
    "x = np.linspace(1000, 100000, 100000)\n",
    "plt.plot(x, norm.pdf(x,loc=mu,scale=sigma),'red',alpha=0.8,lw=4) # Plota a densidade de probabilidade de distribuição"
   ]
  },
  {
   "cell_type": "code",
   "execution_count": 58,
   "metadata": {
    "collapsed": false
   },
   "outputs": [
    {
     "name": "stdout",
     "output_type": "stream",
     "text": [
      "5770.28222656\n",
      "42109.9244751\n"
     ]
    },
    {
     "data": {
      "text/plain": [
       "[<matplotlib.lines.Line2D at 0x29e22aa3470>]"
      ]
     },
     "execution_count": 58,
     "metadata": {},
     "output_type": "execute_result"
    },
    {
     "data": {
      "image/png": "[encoded data removed]",
      "text/plain": [
       "<matplotlib.figure.Figure at 0x29e22a2b390>"
      ]
     },
     "metadata": {},
     "output_type": "display_data"
    }
   ],
   "source": [
    "x = expon.fit(pib[pib.PIB < 100000].PIB)\n",
    "print(mean)\n",
    "print(std) \n",
    "\n",
    "mu = mean\n",
    "sigma = std\n",
    "x = np.linspace(1000, 100000, 100000)\n",
    "plt.plot(x, norm.pdf(x,loc=mu,scale=sigma),'red',alpha=0.8,lw=4) # Plota a densidade de probabilidade de distribuição\n"
   ]
  },
  {
   "cell_type": "markdown",
   "metadata": {},
   "source": [
    "Plotamos um histograma da variável PIB, usamos um filtro no valor de 100.000,00. Uma quantia não muito alta para o estudo do PIB, por exemplo. Ficou claro que se trata do gráfico de uma normal, porém com uma cauda muito grande do lado direito. Outro ponto importante é que a função fit() que consegui estimar os parâmetros, acertou com precisção a média e o desvio padrão do filtro. "
   ]
  },
  {
   "cell_type": "code",
   "execution_count": 65,
   "metadata": {
    "collapsed": false
   },
   "outputs": [
    {
     "name": "stdout",
     "output_type": "stream",
     "text": [
      "5770.28222656\n",
      "42109.9244751\n"
     ]
    },
    {
     "data": {
      "text/plain": [
       "[<matplotlib.lines.Line2D at 0x29e26a64550>]"
      ]
     },
     "execution_count": 65,
     "metadata": {},
     "output_type": "execute_result"
    },
    {
     "data": {
      "image/png": "[encoded data removed]",
      "text/plain": [
       "<matplotlib.figure.Figure at 0x29e26c154e0>"
      ]
     },
     "metadata": {},
     "output_type": "display_data"
    }
   ],
   "source": [
    "x = pib[pib.PIB < 1000000].PIB.hist(normed=True)\n",
    "print(mean)\n",
    "print(std)\n",
    "\n",
    "mu = mean\n",
    "sigma = std\n",
    "x = np.linspace(100, 1000000, 100000)\n",
    "plt.plot(x, norm.pdf(x,loc=mu,scale=sigma),'red',alpha=0.8,lw=4) # Plota a densidade de probabilidade de distribuição"
   ]
  },
  {
   "cell_type": "code",
   "execution_count": 66,
   "metadata": {
    "collapsed": false
   },
   "outputs": [
    {
     "name": "stdout",
     "output_type": "stream",
     "text": [
      "5770.28222656\n",
      "42109.9244751\n"
     ]
    },
    {
     "data": {
      "text/plain": [
       "[<matplotlib.lines.Line2D at 0x29e280376d8>]"
      ]
     },
     "execution_count": 66,
     "metadata": {},
     "output_type": "execute_result"
    },
    {
     "data": {
      "image/png": "[encoded data removed]",
      "text/plain": [
       "<matplotlib.figure.Figure at 0x29e22b60b38>"
      ]
     },
     "metadata": {},
     "output_type": "display_data"
    }
   ],
   "source": [
    "x = expon.fit(pib[pib.PIB < 1000000].PIB)\n",
    "print(mean)\n",
    "print(std)\n",
    "\n",
    "mu = mean\n",
    "sigma = std\n",
    "x = np.linspace(1000, 100000, 100000)\n",
    "plt.plot(x, norm.pdf(x,loc=mu,scale=sigma),'red',alpha=0.8,lw=4) # Plota a densidade de probabilidade de distribuição"
   ]
  },
  {
   "cell_type": "code",
   "execution_count": null,
   "metadata": {
    "collapsed": true
   },
   "outputs": [],
   "source": []
  },
  {
   "cell_type": "markdown",
   "metadata": {},
   "source": [
    "Plotamos um histograma da variável PIB, usamos um filtro no valor de 1.000.000,00. Uma quantia alta para o estudo do PIB, por exemplo. Ficou claro que se trata do gráfico de uma exponencial. Outro ponto importante é que a função fit() que consegui estimar os parâmetros, acertou com precisção a média, porém errou o desvio padrão do filtro."
   ]
  }
 ],
 "metadata": {
  "anaconda-cloud": {},
  "kernelspec": {
   "display_name": "Python [Root]",
   "language": "python",
   "name": "Python [Root]"
  },
  "language_info": {
   "codemirror_mode": {
    "name": "ipython",
    "version": 3
   },
   "file_extension": ".py",
   "mimetype": "text/x-python",
   "name": "python",
   "nbconvert_exporter": "python",
   "pygments_lexer": "ipython3",
   "version": "3.5.2"
  }
 },
 "nbformat": 4,
 "nbformat_minor": 0
}
