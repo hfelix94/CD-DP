{
 "cells": [
  {
   "cell_type": "markdown",
   "metadata": {},
   "source": [
    "___\n",
    "# Análise Exploratória: Variáveis qualitativas\n",
    "___\n",
    "\n",
    "## Aula 02\n",
    "\n",
    "\n",
    "**Links Úteis:**\n",
    "1.\tMagalhães e Lima (7ª. Edição): pág. 9 a 16 – destacando para variáveis qualitativas.\n",
    "2.\t10 Minutes to Pandas: http://pandas.pydata.org/pandas-docs/stable/10min.html\n",
    "3.\tEssential Basic Functionality: http://pandas.pydata.org/pandas-docs/stable/basics.html\n",
    "\n",
    "**Hoje:**\n",
    "1.\tAnalisar variáveis qualitativas de forma uni e bivariadas utilizando tabelas de frequências e gráficos de barras e de setor.\n",
    "\n",
    "**Próxima aula:**\n",
    "1.\tLeitura prévia necessária: Magalhães e Lima (7ª. Edição): pág. 9 a 17 – destacando para variáveis quantitativas.\n",
    "\n",
    "___\n"
   ]
  },
  {
   "cell_type": "markdown",
   "metadata": {},
   "source": [
    "## Empresa de TV\n",
    "\n",
    "Uma empresa de TV via satélite criou recentemente dois tipos de planos de canais (A e B).\n",
    "\n",
    "A empresa tem como objetivo estudar o perfil dos clientes que aderiram ao plano para enviar malas diretas aos potenciais clientes de cada tipo de plano.\n",
    "\n",
    "A base de dados ('EmpresaTV.xlsx') apresenta algumas variáveis para uma amostra de 82 clientes selecionados aleatoriamente dentre aqueles que aderiram aos planos. As variáveis têm os seguintes significados:\n",
    "\n",
    "* CLIENTE: identificador do cliente.\n",
    "* PLANO: apresenta o plano adquirido pelo cliente, A ou B. \n",
    "* EC: apresenta estado civil do cliente no momento da adesão ao plano, Casado, Solteiro e Outros.\n",
    "* SATISFACAO: grau de satisfação do cliente pelo plano,  Muito satisfeito, Satisfeito, Indiferente, Insatisfeito e Muito insatisfeito.\n",
    "* RENDA: renda pessoal do cliente, em milhares de reais.\n",
    "\n",
    "O arquivo <EmpresaTV.xlsx> contém as variáveis descritas acima.\n",
    "\n",
    "Faça uma análise exploratória apenas com as variáveis qualitativas com foco no objetivo da empresa. Desenvolver as seguintes visualizações:\n",
    "\n",
    "1. Gráfico de colunas (bar) e setor (pie) da frequência relativa das variáveis qualitativas.\n",
    "2. Tabela Cruzada entre pares de variaveis qualitativas. Montar o gráfico de colunas. Repetir o processo habilitando a opção \"stacked=True\".\n",
    "\n",
    "Ao final, escrever uma conclusão sobre o ferramental de visualização utilizado.\n",
    "\n",
    "Obs: Comente o código Python com marcações que indicam a utilidade de cada trecho."
   ]
  },
  {
   "cell_type": "code",
   "execution_count": 2,
   "metadata": {
    "collapsed": true
   },
   "outputs": [],
   "source": [
    "%matplotlib inline\n",
    "import pandas as pd\n",
    "import numpy as np\n",
    "import matplotlib.pyplot as plt\n",
    "import os "
   ]
  },
  {
   "cell_type": "code",
   "execution_count": 3,
   "metadata": {
    "collapsed": false
   },
   "outputs": [
    {
     "data": {
      "text/plain": [
       "82"
      ]
     },
     "execution_count": 3,
     "metadata": {},
     "output_type": "execute_result"
    }
   ],
   "source": [
    "df = pd.read_excel('EmpresaTV.xlsx')\n",
    "len(df)\n",
    "\n"
   ]
  },
  {
   "cell_type": "code",
   "execution_count": 4,
   "metadata": {
    "collapsed": false
   },
   "outputs": [
    {
     "name": "stdout",
     "output_type": "stream",
     "text": [
      "C:\\Users\\Felix\\Documents\n"
     ]
    }
   ],
   "source": [
    "print(os.getcwd())"
   ]
  },
  {
   "cell_type": "code",
   "execution_count": 5,
   "metadata": {
    "collapsed": true
   },
   "outputs": [],
   "source": [
    "n = len(df)"
   ]
  },
  {
   "cell_type": "code",
   "execution_count": 65,
   "metadata": {
    "collapsed": false
   },
   "outputs": [
    {
     "name": "stdout",
     "output_type": "stream",
     "text": [
      "    CLIENTE PLANO        EC          SATISFACAO  RENDA\n",
      "0         1     A    Casado    Muito Satisfeito   21.4\n",
      "1         2     A  Solteiro    Muito Satisfeito   17.2\n",
      "2         3     A    Outros    Muito Satisfeito   15.6\n",
      "3         4     A    Casado          Satisfeito   10.4\n",
      "4         5     A  Solteiro    Muito Satisfeito   17.6\n",
      "5         6     A    Outros          Satisfeito    9.8\n",
      "6         7     A    Casado    Muito Satisfeito   13.5\n",
      "7         8     A  Solteiro          Satisfeito    7.8\n",
      "8         9     A    Casado          Satisfeito   14.4\n",
      "9        10     A    Casado    Muito Satisfeito   11.2\n",
      "10       11     A    Casado          Satisfeito   13.2\n",
      "11       12     A    Casado          Satisfeito    7.4\n",
      "12       13     A  Solteiro          Satisfeito    7.7\n",
      "13       14     A    Casado          Satisfeito    9.2\n",
      "14       15     A  Solteiro          Satisfeito   10.0\n",
      "15       16     A  Solteiro    Muito Satisfeito   12.9\n",
      "16       17     A    Casado          Satisfeito    9.4\n",
      "17       18     A  Solteiro         Indiferente   10.3\n",
      "18       19     A    Casado    Muito Satisfeito   14.8\n",
      "19       20     A    Outros          Satisfeito   16.7\n",
      "20       21     A    Outros         Indiferente    9.3\n",
      "21       22     A  Solteiro         Indiferente    7.4\n",
      "22       23     A  Solteiro    Muito Satisfeito   12.4\n",
      "23       24     A  Solteiro         Indiferente    7.0\n",
      "24       25     A    Casado         Indiferente    6.8\n",
      "25       26     A    Casado          Satisfeito    9.9\n",
      "26       27     A    Casado         Indiferente    6.1\n",
      "27       28     A    Casado          Satisfeito   11.5\n",
      "28       29     A  Solteiro          Satisfeito   10.8\n",
      "29       30     A    Casado        Insatisfeito    0.8\n",
      "..      ...   ...       ...                 ...    ...\n",
      "52       53     B  Solteiro         Indiferente    8.1\n",
      "53       54     B  Solteiro         Indiferente    4.9\n",
      "54       55     B  Solteiro         Indiferente    4.2\n",
      "55       56     B  Solteiro         Indiferente    5.5\n",
      "56       57     B    Casado  Muito Insatisfeito    0.8\n",
      "57       58     B    Casado          Satisfeito   19.2\n",
      "58       59     B    Casado          Satisfeito   10.2\n",
      "59       60     B    Outros  Muito Insatisfeito    5.3\n",
      "60       61     B  Solteiro  Muito Insatisfeito    5.5\n",
      "61       62     B  Solteiro  Muito Insatisfeito    4.7\n",
      "62       63     B  Solteiro          Satisfeito    9.5\n",
      "63       64     B  Solteiro          Satisfeito   10.6\n",
      "64       65     B  Solteiro  Muito Insatisfeito    2.5\n",
      "65       66     B    Casado          Satisfeito    8.2\n",
      "66       67     B  Solteiro          Satisfeito    9.0\n",
      "67       68     B    Casado          Satisfeito    7.9\n",
      "68       69     B  Solteiro         Indiferente    6.9\n",
      "69       70     B  Solteiro         Indiferente    6.2\n",
      "70       71     B    Outros         Indiferente    5.3\n",
      "71       72     B  Solteiro         Indiferente    5.0\n",
      "72       73     B  Solteiro         Indiferente    5.4\n",
      "73       74     B  Solteiro         Indiferente    5.8\n",
      "74       75     B    Casado         Indiferente    4.9\n",
      "75       76     B    Casado         Indiferente    4.3\n",
      "76       77     B    Outros        Insatisfeito    4.2\n",
      "77       78     B    Outros        Insatisfeito    4.3\n",
      "78       79     B  Solteiro        Insatisfeito    5.7\n",
      "79       80     B    Casado        Insatisfeito    4.0\n",
      "80       81     B    Outros        Insatisfeito    5.4\n",
      "81       82     B    Casado  Muito Insatisfeito    0.6\n",
      "\n",
      "[82 rows x 5 columns]\n"
     ]
    }
   ],
   "source": [
    "print(df)"
   ]
  },
  {
   "cell_type": "code",
   "execution_count": 66,
   "metadata": {
    "collapsed": false
   },
   "outputs": [],
   "source": [
    "plano = (df.PLANO.value_counts()/n*100).round(decimals=9)"
   ]
  },
  {
   "cell_type": "code",
   "execution_count": 67,
   "metadata": {
    "collapsed": false
   },
   "outputs": [],
   "source": [
    "ec = (df.EC.value_counts()/n*100).round(decimals=9)"
   ]
  },
  {
   "cell_type": "code",
   "execution_count": 68,
   "metadata": {
    "collapsed": false
   },
   "outputs": [],
   "source": [
    "satisfacao = (df.SATISFACAO.value_counts()/n*100).round(decimals=9)\n"
   ]
  },
  {
   "cell_type": "code",
   "execution_count": 69,
   "metadata": {
    "collapsed": true
   },
   "outputs": [],
   "source": [
    "renda = (df.RENDA.value_counts()/n*100).round(decimals=9)"
   ]
  },
  {
   "cell_type": "code",
   "execution_count": 70,
   "metadata": {
    "collapsed": false
   },
   "outputs": [
    {
     "data": {
      "text/plain": [
       "<matplotlib.axes._subplots.AxesSubplot at 0x15db5bb4fd0>"
      ]
     },
     "execution_count": 70,
     "metadata": {},
     "output_type": "execute_result"
    },
    {
     "data": {
      "image/png": "[encoded data removed]",
      "text/plain": [
       "<matplotlib.figure.Figure at 0x15db5bb4320>"
      ]
     },
     "metadata": {},
     "output_type": "display_data"
    }
   ],
   "source": [
    "plano.plot()"
   ]
  },
  {
   "cell_type": "code",
   "execution_count": 71,
   "metadata": {
    "collapsed": false
   },
   "outputs": [
    {
     "data": {
      "text/plain": [
       "<matplotlib.axes._subplots.AxesSubplot at 0x15db5ca45f8>"
      ]
     },
     "execution_count": 71,
     "metadata": {},
     "output_type": "execute_result"
    },
    {
     "data": {
      "image/png": "[encoded data removed]",
      "text/plain": [
       "<matplotlib.figure.Figure at 0x15db5c9c438>"
      ]
     },
     "metadata": {},
     "output_type": "display_data"
    }
   ],
   "source": [
    "plano.plot(kind='bar')"
   ]
  },
  {
   "cell_type": "code",
   "execution_count": 72,
   "metadata": {
    "collapsed": false
   },
   "outputs": [
    {
     "data": {
      "text/plain": [
       "<matplotlib.axes._subplots.AxesSubplot at 0x15db5d05f60>"
      ]
     },
     "execution_count": 72,
     "metadata": {},
     "output_type": "execute_result"
    },
    {
     "data": {
      "image/png": "[encoded data removed]",
      "text/plain": [
       "<matplotlib.figure.Figure at 0x15db5d475c0>"
      ]
     },
     "metadata": {},
     "output_type": "display_data"
    }
   ],
   "source": [
    "plano.plot(kind='pie')"
   ]
  },
  {
   "cell_type": "code",
   "execution_count": 73,
   "metadata": {
    "collapsed": false
   },
   "outputs": [
    {
     "data": {
      "text/plain": [
       "<matplotlib.axes._subplots.AxesSubplot at 0x15db5d3f470>"
      ]
     },
     "execution_count": 73,
     "metadata": {},
     "output_type": "execute_result"
    },
    {
     "data": {
      "image/png": "[encoded data removed]",
      "text/plain": [
       "<matplotlib.figure.Figure at 0x15db5d6b2b0>"
      ]
     },
     "metadata": {},
     "output_type": "display_data"
    }
   ],
   "source": [
    "ec.plot(kind='bar')"
   ]
  },
  {
   "cell_type": "code",
   "execution_count": 74,
   "metadata": {
    "collapsed": false
   },
   "outputs": [
    {
     "data": {
      "text/plain": [
       "<matplotlib.axes._subplots.AxesSubplot at 0x15db5dc0ac8>"
      ]
     },
     "execution_count": 74,
     "metadata": {},
     "output_type": "execute_result"
    },
    {
     "data": {
      "image/png": "[encoded data removed]",
      "text/plain": [
       "<matplotlib.figure.Figure at 0x15db5e037b8>"
      ]
     },
     "metadata": {},
     "output_type": "display_data"
    }
   ],
   "source": [
    "ec.plot(kind='pie')"
   ]
  },
  {
   "cell_type": "code",
   "execution_count": 75,
   "metadata": {
    "collapsed": false
   },
   "outputs": [
    {
     "data": {
      "text/plain": [
       "<matplotlib.axes._subplots.AxesSubplot at 0x15db5daf940>"
      ]
     },
     "execution_count": 75,
     "metadata": {},
     "output_type": "execute_result"
    },
    {
     "data": {
      "image/png": "[encoded data removed]",
      "text/plain": [
       "<matplotlib.figure.Figure at 0x15db5dfada0>"
      ]
     },
     "metadata": {},
     "output_type": "display_data"
    }
   ],
   "source": [
    "satisfacao.plot(kind='bar')"
   ]
  },
  {
   "cell_type": "code",
   "execution_count": 76,
   "metadata": {
    "collapsed": false
   },
   "outputs": [
    {
     "data": {
      "text/plain": [
       "<matplotlib.axes._subplots.AxesSubplot at 0x15db5e86400>"
      ]
     },
     "execution_count": 76,
     "metadata": {},
     "output_type": "execute_result"
    },
    {
     "data": {
      "image/png": "[encoded data removed]",
      "text/plain": [
       "<matplotlib.figure.Figure at 0x15db5ed6208>"
      ]
     },
     "metadata": {},
     "output_type": "display_data"
    }
   ],
   "source": [
    "satisfacao.plot(kind='pie')"
   ]
  },
  {
   "cell_type": "code",
   "execution_count": 85,
   "metadata": {
    "collapsed": false
   },
   "outputs": [
    {
     "data": {
      "text/html": [
       "<div>\n",
       "<table border=\"1\" class=\"dataframe\">\n",
       "  <thead>\n",
       "    <tr style=\"text-align: right;\">\n",
       "      <th>SATISFACAO</th>\n",
       "      <th>Indiferente</th>\n",
       "      <th>Insatisfeito</th>\n",
       "      <th>Muito Insatisfeito</th>\n",
       "      <th>Muito Satisfeito</th>\n",
       "      <th>Satisfeito</th>\n",
       "    </tr>\n",
       "    <tr>\n",
       "      <th>PLANO</th>\n",
       "      <th></th>\n",
       "      <th></th>\n",
       "      <th></th>\n",
       "      <th></th>\n",
       "      <th></th>\n",
       "    </tr>\n",
       "  </thead>\n",
       "  <tbody>\n",
       "    <tr>\n",
       "      <th>A</th>\n",
       "      <td>7</td>\n",
       "      <td>5</td>\n",
       "      <td>2</td>\n",
       "      <td>12</td>\n",
       "      <td>20</td>\n",
       "    </tr>\n",
       "    <tr>\n",
       "      <th>B</th>\n",
       "      <td>12</td>\n",
       "      <td>11</td>\n",
       "      <td>6</td>\n",
       "      <td>0</td>\n",
       "      <td>7</td>\n",
       "    </tr>\n",
       "  </tbody>\n",
       "</table>\n",
       "</div>"
      ],
      "text/plain": [
       "SATISFACAO  Indiferente  Insatisfeito  Muito Insatisfeito  Muito Satisfeito  \\\n",
       "PLANO                                                                         \n",
       "A                     7             5                   2                12   \n",
       "B                    12            11                   6                 0   \n",
       "\n",
       "SATISFACAO  Satisfeito  \n",
       "PLANO                   \n",
       "A                   20  \n",
       "B                    7  "
      ]
     },
     "execution_count": 85,
     "metadata": {},
     "output_type": "execute_result"
    }
   ],
   "source": [
    "x1 =pd.crosstab(df.PLANO, df.SATISFACAO)\n",
    "x1"
   ]
  },
  {
   "cell_type": "code",
   "execution_count": 78,
   "metadata": {
    "collapsed": false
   },
   "outputs": [
    {
     "data": {
      "text/html": [
       "<div>\n",
       "<table border=\"1\" class=\"dataframe\">\n",
       "  <thead>\n",
       "    <tr style=\"text-align: right;\">\n",
       "      <th>EC</th>\n",
       "      <th>Casado</th>\n",
       "      <th>Outros</th>\n",
       "      <th>Solteiro</th>\n",
       "    </tr>\n",
       "    <tr>\n",
       "      <th>PLANO</th>\n",
       "      <th></th>\n",
       "      <th></th>\n",
       "      <th></th>\n",
       "    </tr>\n",
       "  </thead>\n",
       "  <tbody>\n",
       "    <tr>\n",
       "      <th>A</th>\n",
       "      <td>26</td>\n",
       "      <td>7</td>\n",
       "      <td>13</td>\n",
       "    </tr>\n",
       "    <tr>\n",
       "      <th>B</th>\n",
       "      <td>10</td>\n",
       "      <td>6</td>\n",
       "      <td>20</td>\n",
       "    </tr>\n",
       "  </tbody>\n",
       "</table>\n",
       "</div>"
      ],
      "text/plain": [
       "EC     Casado  Outros  Solteiro\n",
       "PLANO                          \n",
       "A          26       7        13\n",
       "B          10       6        20"
      ]
     },
     "execution_count": 78,
     "metadata": {},
     "output_type": "execute_result"
    }
   ],
   "source": [
    "x2 = pd.crosstab(df.PLANO, df.EC)\n",
    "x2"
   ]
  },
  {
   "cell_type": "code",
   "execution_count": 79,
   "metadata": {
    "collapsed": false
   },
   "outputs": [
    {
     "data": {
      "text/html": [
       "<div>\n",
       "<table border=\"1\" class=\"dataframe\">\n",
       "  <thead>\n",
       "    <tr style=\"text-align: right;\">\n",
       "      <th>SATISFACAO</th>\n",
       "      <th>Indiferente</th>\n",
       "      <th>Insatisfeito</th>\n",
       "      <th>Muito Insatisfeito</th>\n",
       "      <th>Muito Satisfeito</th>\n",
       "      <th>Satisfeito</th>\n",
       "    </tr>\n",
       "    <tr>\n",
       "      <th>EC</th>\n",
       "      <th></th>\n",
       "      <th></th>\n",
       "      <th></th>\n",
       "      <th></th>\n",
       "      <th></th>\n",
       "    </tr>\n",
       "  </thead>\n",
       "  <tbody>\n",
       "    <tr>\n",
       "      <th>Casado</th>\n",
       "      <td>5</td>\n",
       "      <td>4</td>\n",
       "      <td>4</td>\n",
       "      <td>5</td>\n",
       "      <td>18</td>\n",
       "    </tr>\n",
       "    <tr>\n",
       "      <th>Outros</th>\n",
       "      <td>2</td>\n",
       "      <td>7</td>\n",
       "      <td>1</td>\n",
       "      <td>1</td>\n",
       "      <td>2</td>\n",
       "    </tr>\n",
       "    <tr>\n",
       "      <th>Solteiro</th>\n",
       "      <td>12</td>\n",
       "      <td>5</td>\n",
       "      <td>3</td>\n",
       "      <td>6</td>\n",
       "      <td>7</td>\n",
       "    </tr>\n",
       "  </tbody>\n",
       "</table>\n",
       "</div>"
      ],
      "text/plain": [
       "SATISFACAO  Indiferente  Insatisfeito  Muito Insatisfeito  Muito Satisfeito  \\\n",
       "EC                                                                            \n",
       "Casado                5             4                   4                 5   \n",
       "Outros                2             7                   1                 1   \n",
       "Solteiro             12             5                   3                 6   \n",
       "\n",
       "SATISFACAO  Satisfeito  \n",
       "EC                      \n",
       "Casado              18  \n",
       "Outros               2  \n",
       "Solteiro             7  "
      ]
     },
     "execution_count": 79,
     "metadata": {},
     "output_type": "execute_result"
    }
   ],
   "source": [
    "x3 = pd.crosstab(df.EC, df.SATISFACAO)\n",
    "x3"
   ]
  },
  {
   "cell_type": "code",
   "execution_count": 80,
   "metadata": {
    "collapsed": false
   },
   "outputs": [
    {
     "data": {
      "text/plain": [
       "<matplotlib.axes._subplots.AxesSubplot at 0x15db5eaab38>"
      ]
     },
     "execution_count": 80,
     "metadata": {},
     "output_type": "execute_result"
    },
    {
     "data": {
      "image/png": "[encoded data removed]",
      "text/plain": [
       "<matplotlib.figure.Figure at 0x15db5ef4470>"
      ]
     },
     "metadata": {},
     "output_type": "display_data"
    }
   ],
   "source": [
    "x1.plot(kind='bar', stacked=True,  figsize= ([8,8]))"
   ]
  },
  {
   "cell_type": "code",
   "execution_count": 81,
   "metadata": {
    "collapsed": false
   },
   "outputs": [
    {
     "data": {
      "text/plain": [
       "<matplotlib.axes._subplots.AxesSubplot at 0x15db5fe04e0>"
      ]
     },
     "execution_count": 81,
     "metadata": {},
     "output_type": "execute_result"
    },
    {
     "data": {
      "image/png": "[encoded data removed]",
      "text/plain": [
       "<matplotlib.figure.Figure at 0x15db5f5cc18>"
      ]
     },
     "metadata": {},
     "output_type": "display_data"
    }
   ],
   "source": [
    "x2.plot(kind='bar', stacked=True,  figsize= ([8,8]))"
   ]
  },
  {
   "cell_type": "code",
   "execution_count": 82,
   "metadata": {
    "collapsed": false
   },
   "outputs": [
    {
     "data": {
      "text/plain": [
       "<matplotlib.axes._subplots.AxesSubplot at 0x15db5fe96d8>"
      ]
     },
     "execution_count": 82,
     "metadata": {},
     "output_type": "execute_result"
    },
    {
     "data": {
      "image/png": "[encoded data removed]",
      "text/plain": [
       "<matplotlib.figure.Figure at 0x15db6020668>"
      ]
     },
     "metadata": {},
     "output_type": "display_data"
    }
   ],
   "source": [
    "x3.plot(kind='bar', stacked=True, figsize= ([8,8]))"
   ]
  },
  {
   "cell_type": "code",
   "execution_count": 83,
   "metadata": {
    "collapsed": false
   },
   "outputs": [
    {
     "data": {
      "image/png": "[encoded data removed]",
      "text/plain": [
       "<matplotlib.figure.Figure at 0x15db6048550>"
      ]
     },
     "metadata": {},
     "output_type": "display_data"
    }
   ],
   "source": [
    "# create 3 data sets with 1,000 samples\n",
    "mu, sigma = 200, 25\n",
    "x = mu + sigma*np.random.randn(1000,3)\n",
    "\n",
    "#Stack the data\n",
    "plt.figure()\n",
    "ec, plano, satisfacao = plt.hist(x, 30, stacked=True, normed = True)\n",
    "plt.show()"
   ]
  },
  {
   "cell_type": "code",
   "execution_count": null,
   "metadata": {
    "collapsed": true
   },
   "outputs": [],
   "source": [
    "Conclusão: Gráficos de barras e gráficos de setor são muito bons visualmente. \n",
    "    Gráficos de setor me ajudam a visualizar melhor a disperção de grandes grupos de dados. \n",
    "    Quando o gráfico de dispersão passa a ter valores muito próximos, \n",
    "    o gráfico de barras é uma grande ferramenta de compreensão de dados. \n",
    "        \n",
    "    \n",
    "    A função crosstab é muito ultíl para uma análise focada em dados quantitativos, me ajudou muito na compreensão dos dados\n",
    "    do ponto de vista númerico. \n",
    "    \n",
    "    a função stacked=true é excelente para uma leitura de dados do ponto de vista visual. \n",
    "    O gráfico ficou muito intuitivo, facilitando assim a compreensão das informações. \n",
    "    \n",
    "    "
   ]
  }
 ],
 "metadata": {
  "anaconda-cloud": {},
  "kernelspec": {
   "display_name": "Python [Root]",
   "language": "python",
   "name": "Python [Root]"
  },
  "language_info": {
   "codemirror_mode": {
    "name": "ipython",
    "version": 3
   },
   "file_extension": ".py",
   "mimetype": "text/x-python",
   "name": "python",
   "nbconvert_exporter": "python",
   "pygments_lexer": "ipython3",
   "version": "3.5.2"
  }
 },
 "nbformat": 4,
 "nbformat_minor": 0
}
