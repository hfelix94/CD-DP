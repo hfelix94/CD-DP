{
 "cells": [
  {
   "cell_type": "markdown",
   "metadata": {},
   "source": [
    "#Aula 03\n",
    "\n",
    "**Referência de Leitura:**\n",
    "1.\tMagalhães e Lima (7ª. Edição): pág. 18 a 25; pág. 106 e 107 (Definição 4.1 e Exemplo 4.1).\n",
    "2.\tMontgomery et al (5ª. Edição): pág. 24 a 28.\n",
    "\n",
    "**Hoje:**\n",
    "1. Explicar vantagens e desvantagens sobre o uso da frequência ou da densidade na construção de um histograma e saber interpretá-lo. \n",
    "2.\tInterpretar o comportamento de uma variável quantitativa a partir dos formatos de um histograma e/ou um box-plot.\n",
    "3.\tInterpretar as medidas-resumo a partir do conjunto de dados.\n",
    "4.\tComparar cenários, a partir dos gráficos e medidas calculadas, para tomada de decisão.\n",
    "\n",
    "**Próxima aula:**\n",
    "1.\tMagalhães e Lima (7ª. Edição): pág. 116 e 117 (Definição 4.4 e Exemplo 4.8).\n",
    "1.\tLeitura prévia: Montgomery et al (5ª. Edição): Seção 2.6 (pág. 46) e Exemplo 6.1 (pág. 306).\n"
   ]
  },
  {
   "cell_type": "markdown",
   "metadata": {},
   "source": [
    "___\n",
    "Nessa aula, a base de dados `Salarios.txt` apresenta salários de quatro profissões diferentes: A, B, C e D. Considere que esses salários foram mensurados para mil trabalhadores escolhidos aleatoriamente dentro de cada profissão. Os comandos abaixo abrem a base de dados:"
   ]
  },
  {
   "cell_type": "code",
   "execution_count": 4,
   "metadata": {
    "collapsed": false
   },
   "outputs": [],
   "source": [
    "%matplotlib inline\n",
    "import pandas as pd\n",
    "import numpy as np\n",
    "import matplotlib.pyplot as plt\n",
    "import os \n"
   ]
  },
  {
   "cell_type": "code",
   "execution_count": 8,
   "metadata": {
    "collapsed": false
   },
   "outputs": [],
   "source": [
    "\n",
    "sal = pd.read_table('salario.txt', sep=\" \") #tabela de salário funcionando corretamente. "
   ]
  },
  {
   "cell_type": "markdown",
   "metadata": {},
   "source": [
    "1)\tGerar as tabelas de frequência absoluta, frequência relativa e frequência acumulada da profissão A. Compare as especificidades de cada tabela. Discorra um pouco sobre quartis utilizando as tabelas."
   ]
  },
  {
   "cell_type": "code",
   "execution_count": 7,
   "metadata": {
    "collapsed": false
   },
   "outputs": [
    {
     "data": {
      "text/plain": [
       "5000    161\n",
       "5500    142\n",
       "4500    142\n",
       "4000    136\n",
       "6000     89\n",
       "3500     86\n",
       "3000     83\n",
       "2500     59\n",
       "6500     52\n",
       "2000     33\n",
       "1500     12\n",
       "1000      4\n",
       "500       1\n",
       "0         0\n",
       "Name: A, dtype: int64"
      ]
     },
     "execution_count": 7,
     "metadata": {},
     "output_type": "execute_result"
    }
   ],
   "source": [
    "sal.A.describe() #comando para dividir as pessoas por faixas de renda. \n",
    "faixas = (0, 500,1000,1500,2000,2500,3000,3500,4000,4500,5000, 5500, 6000, 6500, 7000)\n",
    "sal.A.value_counts(bins=faixas) "
   ]
  },
  {
   "cell_type": "code",
   "execution_count": 9,
   "metadata": {
    "collapsed": true
   },
   "outputs": [],
   "source": [
    "n = len(sal)"
   ]
  },
  {
   "cell_type": "code",
   "execution_count": 67,
   "metadata": {
    "collapsed": false
   },
   "outputs": [
    {
     "data": {
      "text/plain": [
       "5000    16.1\n",
       "5500    14.2\n",
       "4500    14.2\n",
       "4000    13.6\n",
       "6000     8.9\n",
       "3500     8.6\n",
       "3000     8.3\n",
       "2500     5.9\n",
       "6500     5.2\n",
       "2000     3.3\n",
       "1500     1.2\n",
       "1000     0.4\n",
       "500      0.1\n",
       "0        0.0\n",
       "Name: A, dtype: float64"
      ]
     },
     "execution_count": 67,
     "metadata": {},
     "output_type": "execute_result"
    }
   ],
   "source": [
    "relativa = (sal.A.value_counts(bins=faixas)/n*100) #divisão de frequência relativa. \n",
    "relativa"
   ]
  },
  {
   "cell_type": "markdown",
   "metadata": {},
   "source": [
    "2)\tFazer o histograma de cada profissão. Escolha a mesma quantidade de classes das tabelas acima."
   ]
  },
  {
   "cell_type": "code",
   "execution_count": 68,
   "metadata": {
    "collapsed": false
   },
   "outputs": [
    {
     "data": {
      "text/plain": [
       "array([[<matplotlib.axes._subplots.AxesSubplot object at 0x000001CEA34A79E8>,\n",
       "        <matplotlib.axes._subplots.AxesSubplot object at 0x000001CEA3582CC0>],\n",
       "       [<matplotlib.axes._subplots.AxesSubplot object at 0x000001CEA35D0400>,\n",
       "        <matplotlib.axes._subplots.AxesSubplot object at 0x000001CEA36716A0>]], dtype=object)"
      ]
     },
     "execution_count": 68,
     "metadata": {},
     "output_type": "execute_result"
    },
    {
     "data": {
      "image/png": "[encoded data removed]",
      "text/plain": [
       "<matplotlib.figure.Figure at 0x1cea3538eb8>"
      ]
     },
     "metadata": {},
     "output_type": "display_data"
    }
   ],
   "source": [
    "sal.hist(figsize= ([8,6])) #gráficos de divisão de renda por faixas para cada profissão de interesse. "
   ]
  },
  {
   "cell_type": "markdown",
   "metadata": {},
   "source": [
    "2.1)\tRefazer os gráficos utilizando o argumento \"normed=True\". Selecione a profissão A e compare com histograma do item anterior. Compare também com as tabelas feitas no item 1."
   ]
  },
  {
   "cell_type": "code",
   "execution_count": 16,
   "metadata": {
    "collapsed": false
   },
   "outputs": [
    {
     "data": {
      "text/plain": [
       "array([[<matplotlib.axes._subplots.AxesSubplot object at 0x000002A557A0E160>,\n",
       "        <matplotlib.axes._subplots.AxesSubplot object at 0x000002A557C221D0>],\n",
       "       [<matplotlib.axes._subplots.AxesSubplot object at 0x000002A557C6ABA8>,\n",
       "        <matplotlib.axes._subplots.AxesSubplot object at 0x000002A557CA7FD0>]], dtype=object)"
      ]
     },
     "execution_count": 16,
     "metadata": {},
     "output_type": "execute_result"
    },
    {
     "data": {
      "image/png": "[encoded data removed]",
      "text/plain": [
       "<matplotlib.figure.Figure at 0x2a55799e198>"
      ]
     },
     "metadata": {},
     "output_type": "display_data"
    }
   ],
   "source": [
    "sal.hist(figsize= ([12,12]), normed=True) #DUVIDA"
   ]
  },
  {
   "cell_type": "markdown",
   "metadata": {},
   "source": [
    "___\n",
    "3)\tConsiderando a distribuição dos salários em cada profissão, descreva qual deve ser sua influência sobre as seguintes características (não faça contas):\n",
    "\n",
    "3.1.\tMedidas de tendência central: os valores tendem a agrupar ao redor de um particular ponto?\n",
    "\n",
    "3.2.\tCaudas: as probabilidades caem da mesma forma conforme se distancia, para direita e para esquerda, da faixa salarial com maior densidade? Elas podem influenciar no formato dos dados?\n",
    "\n",
    "3.3.\tOutliers (valores aberrantes): Há valores extremos que e distanciam de alguma medida central?"
   ]
  },
  {
   "cell_type": "markdown",
   "metadata": {
    "collapsed": true
   },
   "source": [
    "RESPOSTA:\n",
    "\n",
    "3.1 Medidas de tendência central estão deslocadas no grupo A e D. Por que a cauda do gráfico é muito longa, com isso valores outliers podem e vão mudar as medidas de tendência. O gráfico B está com uma simetria boa, ou seja, valores de tendência vão concidir com os apresentados no gráfico. O gráfico C me parece ter uma \"unica média\", pois os valores estão muito próximos dentro de um certo intervalo. \n",
    "\n",
    "3.2 Caudas muito longas tanto para a direita como para esquerda vão influênciar diretamente os valores da média e desvio padrão. Ajustes estátisticos seriam necessários. \n",
    "\n",
    "3.3 No gráfico A os valores outlers estão muito baixos, no gráfico D os valores outlers estão muito altos. Ambos vão comprometer a média dos dados.  "
   ]
  },
  {
   "cell_type": "markdown",
   "metadata": {},
   "source": [
    "___\n",
    "4)\tHá medidas-resumo que buscam sumarizar as informações de variáveis quantitativas representando, por exemplo, a tendência central dos dados. Nesse caso, busque os comandos para calcular as seguintes medidas:\n",
    "\n",
    "4.1.\tMédia, mediana e moda para cada profissão. Interprete o resultado."
   ]
  },
  {
   "cell_type": "code",
   "execution_count": 13,
   "metadata": {
    "collapsed": false
   },
   "outputs": [
    {
     "data": {
      "text/html": [
       "<div>\n",
       "<table border=\"1\" class=\"dataframe\">\n",
       "  <thead>\n",
       "    <tr style=\"text-align: right;\">\n",
       "      <th></th>\n",
       "      <th>A</th>\n",
       "      <th>B</th>\n",
       "      <th>C</th>\n",
       "      <th>D</th>\n",
       "    </tr>\n",
       "  </thead>\n",
       "  <tbody>\n",
       "    <tr>\n",
       "      <th>count</th>\n",
       "      <td>1000.000000</td>\n",
       "      <td>1000.000000</td>\n",
       "      <td>1000.000000</td>\n",
       "      <td>1000.000000</td>\n",
       "    </tr>\n",
       "    <tr>\n",
       "      <th>mean</th>\n",
       "      <td>4683.116910</td>\n",
       "      <td>4470.739760</td>\n",
       "      <td>4207.062150</td>\n",
       "      <td>3252.781340</td>\n",
       "    </tr>\n",
       "    <tr>\n",
       "      <th>std</th>\n",
       "      <td>1217.427775</td>\n",
       "      <td>1206.365793</td>\n",
       "      <td>1880.275849</td>\n",
       "      <td>1285.510735</td>\n",
       "    </tr>\n",
       "    <tr>\n",
       "      <th>min</th>\n",
       "      <td>806.840000</td>\n",
       "      <td>745.380000</td>\n",
       "      <td>1003.800000</td>\n",
       "      <td>862.290000</td>\n",
       "    </tr>\n",
       "    <tr>\n",
       "      <th>25%</th>\n",
       "      <td>3888.915000</td>\n",
       "      <td>3607.732500</td>\n",
       "      <td>2584.717500</td>\n",
       "      <td>2345.997500</td>\n",
       "    </tr>\n",
       "    <tr>\n",
       "      <th>50%</th>\n",
       "      <td>4838.560000</td>\n",
       "      <td>4486.440000</td>\n",
       "      <td>4264.840000</td>\n",
       "      <td>3076.090000</td>\n",
       "    </tr>\n",
       "    <tr>\n",
       "      <th>75%</th>\n",
       "      <td>5608.157500</td>\n",
       "      <td>5332.467500</td>\n",
       "      <td>5891.862500</td>\n",
       "      <td>3895.955000</td>\n",
       "    </tr>\n",
       "    <tr>\n",
       "      <th>max</th>\n",
       "      <td>6966.520000</td>\n",
       "      <td>8540.120000</td>\n",
       "      <td>7492.650000</td>\n",
       "      <td>9570.730000</td>\n",
       "    </tr>\n",
       "  </tbody>\n",
       "</table>\n",
       "</div>"
      ],
      "text/plain": [
       "                 A            B            C            D\n",
       "count  1000.000000  1000.000000  1000.000000  1000.000000\n",
       "mean   4683.116910  4470.739760  4207.062150  3252.781340\n",
       "std    1217.427775  1206.365793  1880.275849  1285.510735\n",
       "min     806.840000   745.380000  1003.800000   862.290000\n",
       "25%    3888.915000  3607.732500  2584.717500  2345.997500\n",
       "50%    4838.560000  4486.440000  4264.840000  3076.090000\n",
       "75%    5608.157500  5332.467500  5891.862500  3895.955000\n",
       "max    6966.520000  8540.120000  7492.650000  9570.730000"
      ]
     },
     "execution_count": 13,
     "metadata": {},
     "output_type": "execute_result"
    }
   ],
   "source": [
    "\n",
    "sal.describe() #O comando describe() nos apresenta mean(média) e std(desvio padrão). O restante dos dados será explicado posteriormente"
   ]
  },
  {
   "cell_type": "code",
   "execution_count": 14,
   "metadata": {
    "collapsed": false
   },
   "outputs": [
    {
     "data": {
      "text/html": [
       "<div>\n",
       "<table border=\"1\" class=\"dataframe\">\n",
       "  <thead>\n",
       "    <tr style=\"text-align: right;\">\n",
       "      <th></th>\n",
       "      <th>A</th>\n",
       "      <th>B</th>\n",
       "      <th>C</th>\n",
       "      <th>D</th>\n",
       "    </tr>\n",
       "  </thead>\n",
       "  <tbody>\n",
       "    <tr>\n",
       "      <th>0</th>\n",
       "      <td>NaN</td>\n",
       "      <td>4959.34</td>\n",
       "      <td>2401.22</td>\n",
       "      <td>2258.49</td>\n",
       "    </tr>\n",
       "    <tr>\n",
       "      <th>1</th>\n",
       "      <td>NaN</td>\n",
       "      <td>5664.80</td>\n",
       "      <td>NaN</td>\n",
       "      <td>NaN</td>\n",
       "    </tr>\n",
       "  </tbody>\n",
       "</table>\n",
       "</div>"
      ],
      "text/plain": [
       "    A        B        C        D\n",
       "0 NaN  4959.34  2401.22  2258.49\n",
       "1 NaN  5664.80      NaN      NaN"
      ]
     },
     "execution_count": 14,
     "metadata": {},
     "output_type": "execute_result"
    }
   ],
   "source": [
    "sal.mode() #O comando mode(moda), ou seja, o valor que mais vezes aparece em cada profissão."
   ]
  },
  {
   "cell_type": "markdown",
   "metadata": {},
   "source": [
    "___\n",
    "5) Faça o gráfico Boxplot de cada variável. Explique o conceito do Boxplot.  \n",
    "Considerando essas definições, descreva o comportamento dos salários em cada profissão. Confronte com interpretações anteriores. "
   ]
  },
  {
   "cell_type": "code",
   "execution_count": 70,
   "metadata": {
    "collapsed": false
   },
   "outputs": [
    {
     "name": "stderr",
     "output_type": "stream",
     "text": [
      "C:\\Users\\Felix\\Anaconda3\\lib\\site-packages\\ipykernel\\__main__.py:1: FutureWarning: \n",
      "The default value for 'return_type' will change to 'axes' in a future release.\n",
      " To use the future behavior now, set return_type='axes'.\n",
      " To keep the previous behavior and silence this warning, set return_type='dict'.\n",
      "  if __name__ == '__main__':\n"
     ]
    },
    {
     "data": {
      "text/plain": [
       "{'boxes': [<matplotlib.lines.Line2D at 0x1cea398abe0>,\n",
       "  <matplotlib.lines.Line2D at 0x1cea399efd0>,\n",
       "  <matplotlib.lines.Line2D at 0x1cea39b29b0>,\n",
       "  <matplotlib.lines.Line2D at 0x1cea39cc320>],\n",
       " 'caps': [<matplotlib.lines.Line2D at 0x1cea3991f60>,\n",
       "  <matplotlib.lines.Line2D at 0x1cea3997eb8>,\n",
       "  <matplotlib.lines.Line2D at 0x1cea39a9fd0>,\n",
       "  <matplotlib.lines.Line2D at 0x1cea39ae828>,\n",
       "  <matplotlib.lines.Line2D at 0x1cea39c0940>,\n",
       "  <matplotlib.lines.Line2D at 0x1cea39c0a58>,\n",
       "  <matplotlib.lines.Line2D at 0x1cea39d2b70>,\n",
       "  <matplotlib.lines.Line2D at 0x1cea39d8ac8>],\n",
       " 'fliers': [<matplotlib.lines.Line2D at 0x1cea399ef28>,\n",
       "  <matplotlib.lines.Line2D at 0x1cea39b2898>,\n",
       "  <matplotlib.lines.Line2D at 0x1cea39c7ac8>,\n",
       "  <matplotlib.lines.Line2D at 0x1cea39dbb38>],\n",
       " 'means': [],\n",
       " 'medians': [<matplotlib.lines.Line2D at 0x1cea3997fd0>,\n",
       "  <matplotlib.lines.Line2D at 0x1cea39ae940>,\n",
       "  <matplotlib.lines.Line2D at 0x1cea39c72b0>,\n",
       "  <matplotlib.lines.Line2D at 0x1cea39d8be0>],\n",
       " 'whiskers': [<matplotlib.lines.Line2D at 0x1cea398ada0>,\n",
       "  <matplotlib.lines.Line2D at 0x1cea3991e48>,\n",
       "  <matplotlib.lines.Line2D at 0x1cea39a2f60>,\n",
       "  <matplotlib.lines.Line2D at 0x1cea39a97b8>,\n",
       "  <matplotlib.lines.Line2D at 0x1cea39bb8d0>,\n",
       "  <matplotlib.lines.Line2D at 0x1cea39bb9e8>,\n",
       "  <matplotlib.lines.Line2D at 0x1cea39cca90>,\n",
       "  <matplotlib.lines.Line2D at 0x1cea39d2a58>]}"
      ]
     },
     "execution_count": 70,
     "metadata": {},
     "output_type": "execute_result"
    },
    {
     "data": {
      "image/png": "[encoded data removed]",
      "text/plain": [
       "<matplotlib.figure.Figure at 0x1cea3b55b70>"
      ]
     },
     "metadata": {},
     "output_type": "display_data"
    }
   ],
   "source": [
    "sal.boxplot()"
   ]
  },
  {
   "cell_type": "code",
   "execution_count": null,
   "metadata": {
    "collapsed": true
   },
   "outputs": [],
   "source": [
    "O boxplot serve para nos mostrar como estão alocados os valores centrais, média e mediana. Ele também apresenta os dados outlers, \n",
    "esse dado é de grande valia para uma compreensão mais ampla da distribuição dos dados. "
   ]
  },
  {
   "cell_type": "markdown",
   "metadata": {},
   "source": [
    "###### ___\n",
    "6) Suponha que queira seguir uma das quatro profissões (A, B, C e D) e que sua decisão será guiada pelo futuro desempenho salarial que possa vim a ter. Assim, escreva um parágrafo que use os resultados desenvolvidos na aula de hoje, os quais respaldam sua escolha. Faça isso de forma clara e sucinta."
   ]
  },
  {
   "cell_type": "markdown",
   "metadata": {
    "collapsed": true
   },
   "source": [
    "Com base nos dados aqui apresentados, eu escolheria a profissão B. Pois os valores de medidas condiz com os valores apresentados no gráfico. \n",
    "A média não é tão alta, algo por volta de 4.500,00 e 5,500,00. Estaria mais interessado em ser um outlers da profissão D. "
   ]
  }
 ],
 "metadata": {
  "anaconda-cloud": {},
  "kernelspec": {
   "display_name": "Python [Root]",
   "language": "python",
   "name": "Python [Root]"
  },
  "language_info": {
   "codemirror_mode": {
    "name": "ipython",
    "version": 3
   },
   "file_extension": ".py",
   "mimetype": "text/x-python",
   "name": "python",
   "nbconvert_exporter": "python",
   "pygments_lexer": "ipython3",
   "version": "3.5.2"
  }
 },
 "nbformat": 4,
 "nbformat_minor": 0
}
