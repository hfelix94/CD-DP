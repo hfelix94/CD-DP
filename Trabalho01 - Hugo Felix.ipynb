{
 "cells": [
  {
   "cell_type": "markdown",
   "metadata": {},
   "source": [
    "Trabalho 1 - Hugo Felix\n",
    "\n",
    "Introdução: O objetivo deste trabalho é fazer uma análise exploratória sobre o perfil dos aposentados. A base de dados utulizada é PNAD 2013. Será feita uma série de estudos qualitativos e quantitativos para que possamos entender, de fato, como são as caracteristicas das pessoas que se declaram aposentados. O foco da pesquisa é inserção dos aposentados a tecnolgia e como isso se comporta em relação ao nível de formação acadêmica. Cada observação será acompanhada de uma interpretação. Ao final do ensaio, será feita uma conclusão final sobre o público alvo. "
   ]
  },
  {
   "cell_type": "code",
   "execution_count": 2,
   "metadata": {
    "collapsed": true
   },
   "outputs": [],
   "source": [
    "%matplotlib inline\n",
    "import pandas as pd\n",
    "import numpy as np\n",
    "import matplotlib.pyplot as plt\n",
    "import os \n",
    "\n",
    "#importantando todas as bibliotecas necessárias."
   ]
  },
  {
   "cell_type": "code",
   "execution_count": 4,
   "metadata": {
    "collapsed": false
   },
   "outputs": [],
   "source": [
    "pnad = pd.read_csv('pes2013R.csv') #chamando a base de dados\n"
   ]
  },
  {
   "cell_type": "code",
   "execution_count": 491,
   "metadata": {
    "collapsed": false
   },
   "outputs": [],
   "source": [
    "aposentados = pnad[pnad[\"V9112\"] == 2] #este primeiro filtro foi utilizado para separar os \"aposentados\" da grande tabela do PNAD. "
   ]
  },
  {
   "cell_type": "code",
   "execution_count": 492,
   "metadata": {
    "collapsed": false
   },
   "outputs": [],
   "source": [
    "nomes = aposentados.rename(index=str, columns={'V0302': 'SEXO', \"V4011\": \"ESTADO CIVIL\", \"V0601\": \"SABE LER/ESCREVER\", \"V6007\": \"CURSO + ELEVADO\", \"V06112\":\"TEM CELULAR\", \"V9001\":\"TRABALHA\",\"V9005\":\"Nº DE TRABALHOS\",\"V7122\":\"RENDIMENTO MENSAL\", \"V1252\":\"VALOR DA APOSENTADORIA\",\"V1258\":\"OUTRO TIPO DE APOSENTADORIA\"})\n",
    "#usei este comando aqui em cima para trocar o nome das colunas"
   ]
  },
  {
   "cell_type": "code",
   "execution_count": 493,
   "metadata": {
    "collapsed": false
   },
   "outputs": [],
   "source": [
    "n = len(aposentados)"
   ]
  },
  {
   "cell_type": "code",
   "execution_count": 494,
   "metadata": {
    "collapsed": false
   },
   "outputs": [
    {
     "data": {
      "text/plain": [
       "2185"
      ]
     },
     "execution_count": 494,
     "metadata": {},
     "output_type": "execute_result"
    }
   ],
   "source": [
    "len(aposentados) #Este número está pequeno. Minha estimativa era maior para aposentados. "
   ]
  },
  {
   "cell_type": "code",
   "execution_count": 497,
   "metadata": {
    "collapsed": false
   },
   "outputs": [
    {
     "data": {
      "text/plain": [
       "<matplotlib.axes._subplots.AxesSubplot at 0x2298d440940>"
      ]
     },
     "execution_count": 497,
     "metadata": {},
     "output_type": "execute_result"
    },
    {
     "data": {
      "image/png": "[encoded data removed]",
      "text/plain": [
       "<matplotlib.figure.Figure at 0x22999c64cf8>"
      ]
     },
     "metadata": {},
     "output_type": "display_data"
    }
   ],
   "source": [
    "leitura = nomes[(nomes[\"SABE LER/ESCREVER\"]==1) | (nomes[\"SABE LER/ESCREVER\"]==3) ] #filtro para saber quantas pessoas sabem ler\n",
    "leitura = leitura[\"SABE LER/ESCREVER\"].astype('category')\n",
    "leitura.cat.categories = ('Saber Ler', 'Não Sabe Ler')\n",
    "z=leitura.astype('category')\n",
    "leitura.value_counts().plot(kind='pie' ,autopct = \"%0.2f\")"
   ]
  },
  {
   "cell_type": "code",
   "execution_count": 498,
   "metadata": {
    "collapsed": false
   },
   "outputs": [
    {
     "data": {
      "text/plain": [
       "Saber Ler       1947\n",
       "Não Sabe Ler     238\n",
       "Name: SABE LER/ESCREVER, dtype: int64"
      ]
     },
     "execution_count": 498,
     "metadata": {},
     "output_type": "execute_result"
    }
   ],
   "source": [
    "leitura.value_counts() # Quantidade relativa a cada opção"
   ]
  },
  {
   "cell_type": "code",
   "execution_count": 524,
   "metadata": {
    "collapsed": false
   },
   "outputs": [],
   "source": [
    "celular = nomes[(nomes[\"TEM CELULAR\"]==1)| (nomes[\"TEM CELULAR\"]==3)] #filtro para saber quantas pessoas possuem celular e quantas pessoas não possuem celular\n",
    "#este filtro é interessante pois podemos compreender quantos aposentados tem ou não acesso a tecnologia"
   ]
  },
  {
   "cell_type": "code",
   "execution_count": 525,
   "metadata": {
    "collapsed": false
   },
   "outputs": [
    {
     "data": {
      "text/plain": [
       "count    2185.000000\n",
       "mean        1.490618\n",
       "std         0.860737\n",
       "min         1.000000\n",
       "25%         1.000000\n",
       "50%         1.000000\n",
       "75%         1.000000\n",
       "max         3.000000\n",
       "Name: TEM CELULAR, dtype: float64"
      ]
     },
     "execution_count": 525,
     "metadata": {},
     "output_type": "execute_result"
    }
   ],
   "source": [
    "celular[\"TEM CELULAR\"].describe() #Este estudo nos mostra que mais de 75% dos aposentados utiliza celular"
   ]
  },
  {
   "cell_type": "code",
   "execution_count": 501,
   "metadata": {
    "collapsed": true
   },
   "outputs": [],
   "source": [
    "celular = nomes[\"TEM CELULAR\"]"
   ]
  },
  {
   "cell_type": "code",
   "execution_count": 502,
   "metadata": {
    "collapsed": false
   },
   "outputs": [],
   "source": [
    "celular = celular.astype(\"category\")"
   ]
  },
  {
   "cell_type": "code",
   "execution_count": 503,
   "metadata": {
    "collapsed": false
   },
   "outputs": [
    {
     "data": {
      "text/plain": [
       "<matplotlib.axes._subplots.AxesSubplot at 0x2298b868c50>"
      ]
     },
     "execution_count": 503,
     "metadata": {},
     "output_type": "execute_result"
    },
    {
     "data": {
      "image/png": "[encoded data removed]",
      "text/plain": [
       "<matplotlib.figure.Figure at 0x2298b86a860>"
      ]
     },
     "metadata": {},
     "output_type": "display_data"
    }
   ],
   "source": [
    "x=celular.astype('category')\n",
    "celular.cat.categories = ('Tem Celular', 'Não tem celular')\n",
    "celular.value_counts().plot(kind='pie',autopct = \"%0.2f\")\n",
    "\n",
    "#podemos verificar pelo gráfico de uma forma mais intuitiva a mesma informação que a funcção describe() já nos forneceu. \n",
    "#Este gráfico ainda está muito \"bruto\" vamos lapidar mais os resultados para que possamos ter uma noção mais apurada sobre o número de aposentados com acesso a tecnologia. "
   ]
  },
  {
   "cell_type": "code",
   "execution_count": 504,
   "metadata": {
    "collapsed": false
   },
   "outputs": [
    {
     "data": {
      "text/plain": [
       "Tem Celular        1649\n",
       "Não tem celular     536\n",
       "Name: TEM CELULAR, dtype: int64"
      ]
     },
     "execution_count": 504,
     "metadata": {},
     "output_type": "execute_result"
    }
   ],
   "source": [
    "celular.value_counts() # Quantidade relativa a cada opção"
   ]
  },
  {
   "cell_type": "code",
   "execution_count": 526,
   "metadata": {
    "collapsed": true
   },
   "outputs": [],
   "source": [
    "trabalho = nomes[(nomes[\"TRABALHA\"]==1) | (nomes[\"TRABALHA\"]==3)] #filtro de aposentados que trablham ou não. No teste do número 1(pessoas que trabalham) e no teste 3(pessoas que não trabalham).\n",
    "#No filtro composto foi possível perceber que nenhum dos aposentados declarou que trabalha. "
   ]
  },
  {
   "cell_type": "code",
   "execution_count": 527,
   "metadata": {
    "collapsed": false
   },
   "outputs": [
    {
     "data": {
      "text/plain": [
       "3.0    2185\n",
       "Name: TRABALHA, dtype: int64"
      ]
     },
     "execution_count": 527,
     "metadata": {},
     "output_type": "execute_result"
    }
   ],
   "source": [
    "trabalho[\"TRABALHA\"].value_counts() # Quantidade relativa a cada opção"
   ]
  },
  {
   "cell_type": "code",
   "execution_count": 509,
   "metadata": {
    "collapsed": true
   },
   "outputs": [],
   "source": [
    "b = trabalho[\"TRABALHA\"]"
   ]
  },
  {
   "cell_type": "code",
   "execution_count": 510,
   "metadata": {
    "collapsed": false
   },
   "outputs": [
    {
     "data": {
      "text/plain": [
       "count    2185.0\n",
       "mean        3.0\n",
       "std         0.0\n",
       "min         3.0\n",
       "25%         3.0\n",
       "50%         3.0\n",
       "75%         3.0\n",
       "max         3.0\n",
       "Name: TRABALHA, dtype: float64"
      ]
     },
     "execution_count": 510,
     "metadata": {},
     "output_type": "execute_result"
    }
   ],
   "source": [
    "b.describe() # detalhes da coluna"
   ]
  },
  {
   "cell_type": "code",
   "execution_count": 508,
   "metadata": {
    "collapsed": false
   },
   "outputs": [
    {
     "data": {
      "text/plain": [
       "<matplotlib.axes._subplots.AxesSubplot at 0x2298d435c18>"
      ]
     },
     "execution_count": 508,
     "metadata": {},
     "output_type": "execute_result"
    },
    {
     "data": {
      "image/png": "[encoded data removed]",
      "text/plain": [
       "<matplotlib.figure.Figure at 0x22984ebfda0>"
      ]
     },
     "metadata": {},
     "output_type": "display_data"
    }
   ],
   "source": [
    "curso = nomes[(nomes[\"CURSO + ELEVADO\"]==4) | (nomes[\"CURSO + ELEVADO\"]==5) | (nomes[\"CURSO + ELEVADO\"]==7) | (nomes[\"CURSO + ELEVADO\"]==8) | (nomes[\"CURSO + ELEVADO\"]==9)] #Filtro composto. (4) Fundamental, (5) Médio, (7) Supletivo, (8) Superior e (9) Mestrado/Doutorado. \n",
    "curso = curso[\"CURSO + ELEVADO\"].astype('category')\n",
    "curso.cat.categories = ('Fundamental', 'Médio','Supletivo','Superior')\n",
    "y=curso.astype('category')\n",
    "curso.value_counts().plot(kind='pie' ,autopct = \"%0.2f\")\n",
    "\n",
    "#podemos constatar que a maiora dos aposentados só tem até o ensino fundamental completo(66,37%). Pouco menos de um terço(31,05%) terminaram o ensino médio e pouco menos (3%) chegaram ao nível de ensino superior. Nenhum dos aposentados chegou até o último filtro (9) Mestrado/Doutorado. "
   ]
  },
  {
   "cell_type": "code",
   "execution_count": 511,
   "metadata": {
    "collapsed": false
   },
   "outputs": [
    {
     "data": {
      "text/plain": [
       "Fundamental    979\n",
       "Médio          458\n",
       "Supletivo       27\n",
       "Superior        11\n",
       "Name: CURSO + ELEVADO, dtype: int64"
      ]
     },
     "execution_count": 511,
     "metadata": {},
     "output_type": "execute_result"
    }
   ],
   "source": [
    "curso.value_counts() # Quantidade relativa a cada opção"
   ]
  },
  {
   "cell_type": "code",
   "execution_count": 528,
   "metadata": {
    "collapsed": false
   },
   "outputs": [
    {
     "data": {
      "text/plain": [
       "count    0.0\n",
       "mean     NaN\n",
       "std      NaN\n",
       "min      NaN\n",
       "25%      NaN\n",
       "50%      NaN\n",
       "75%      NaN\n",
       "max      NaN\n",
       "Name: Nº DE TRABALHOS, dtype: float64"
      ]
     },
     "execution_count": 528,
     "metadata": {},
     "output_type": "execute_result"
    }
   ],
   "source": [
    "trabalhos = nomes[(nomes[\"Nº DE TRABALHOS\"]== 1) | (nomes[\"Nº DE TRABALHOS\"]== 3) | (nomes[\"Nº DE TRABALHOS\"]== 5)] #Filtro composto de nº de trabalhos. Como vimos no filtro de aposentados, nesta PNAD nenhum dos asposentados relatou trabalhar, logo, o filtro por nº de empregos gerou o resultado zero. \n",
    "trabalhos[\"Nº DE TRABALHOS\"].describe()"
   ]
  },
  {
   "cell_type": "code",
   "execution_count": 513,
   "metadata": {
    "collapsed": false
   },
   "outputs": [
    {
     "data": {
      "text/plain": [
       "<matplotlib.axes._subplots.AxesSubplot at 0x229a053ad68>"
      ]
     },
     "execution_count": 513,
     "metadata": {},
     "output_type": "execute_result"
    },
    {
     "data": {
      "image/png": "[encoded data removed]",
      "text/plain": [
       "<matplotlib.figure.Figure at 0x229a050cc50>"
      ]
     },
     "metadata": {},
     "output_type": "display_data"
    }
   ],
   "source": [
    "civil = nomes[(nomes[\"ESTADO CIVIL\"]==1) | (nomes[\"ESTADO CIVIL\"]==3) | (nomes[\"ESTADO CIVIL\"]==5) | (nomes[\"ESTADO CIVIL\"]==7) | (nomes[\"ESTADO CIVIL\"]==0)]#Filtro composto. (0) Solteiro, (1) Casado, (3) Separado, (5) Divorciado e (7) Viuvo. \n",
    "civil = civil[\"ESTADO CIVIL\"].astype(\"category\")\n",
    "civil.cat.categories = ('Solteiro', \"Casado\", 'Separado','Divorciado','Viuvo')\n",
    "civil.value_counts().plot(kind='pie' ,autopct = \"%0.2f\")\n",
    "\n",
    " #Contrariando o senso comum de que a maioria dos aposentados seria casado ou viuvo. O filtro nos mostra que (75,9%) dos aposentados se diz solteiro. O restante dos aposentados está diluido entre casados(6,88%), divorciados(6,15%), separados(2,56%) e viuvos(8,52). "
   ]
  },
  {
   "cell_type": "code",
   "execution_count": 514,
   "metadata": {
    "collapsed": false
   },
   "outputs": [
    {
     "data": {
      "text/plain": [
       "Solteiro      1247\n",
       "Viuvo          140\n",
       "Casado         113\n",
       "Divorciado     101\n",
       "Separado        42\n",
       "Name: ESTADO CIVIL, dtype: int64"
      ]
     },
     "execution_count": 514,
     "metadata": {},
     "output_type": "execute_result"
    }
   ],
   "source": [
    "civil.value_counts() # Quantidade relativa a cada opção"
   ]
  },
  {
   "cell_type": "code",
   "execution_count": 515,
   "metadata": {
    "collapsed": false
   },
   "outputs": [
    {
     "data": {
      "text/html": [
       "<div>\n",
       "<table border=\"1\" class=\"dataframe\">\n",
       "  <thead>\n",
       "    <tr style=\"text-align: right;\">\n",
       "      <th>CURSO + ELEVADO</th>\n",
       "      <th>Fundamental</th>\n",
       "      <th>Médio</th>\n",
       "      <th>Supletivo</th>\n",
       "      <th>Superior</th>\n",
       "    </tr>\n",
       "    <tr>\n",
       "      <th>TEM CELULAR</th>\n",
       "      <th></th>\n",
       "      <th></th>\n",
       "      <th></th>\n",
       "      <th></th>\n",
       "    </tr>\n",
       "  </thead>\n",
       "  <tbody>\n",
       "    <tr>\n",
       "      <th>Tem Celular</th>\n",
       "      <td>744</td>\n",
       "      <td>384</td>\n",
       "      <td>20</td>\n",
       "      <td>7</td>\n",
       "    </tr>\n",
       "    <tr>\n",
       "      <th>Não tem celular</th>\n",
       "      <td>235</td>\n",
       "      <td>74</td>\n",
       "      <td>7</td>\n",
       "      <td>4</td>\n",
       "    </tr>\n",
       "  </tbody>\n",
       "</table>\n",
       "</div>"
      ],
      "text/plain": [
       "CURSO + ELEVADO  Fundamental  Médio  Supletivo  Superior\n",
       "TEM CELULAR                                             \n",
       "Tem Celular              744    384         20         7\n",
       "Não tem celular          235     74          7         4"
      ]
     },
     "execution_count": 515,
     "metadata": {},
     "output_type": "execute_result"
    }
   ],
   "source": [
    "x1 =pd.crosstab(celular,curso)\n",
    "x1\n",
    "#Contrariando o senso comum de que, quanto mais instruido for a pessoa, maior a inserção a tecnologia. Esse crosstab nos mostra que os aposentados que tiveram cursaram apenas o ensino fundamental também tem contato com a tecnologia. \n",
    "#Tem celular = 1155 aposentados: fundamental(64,41%), médio(33,24%), supletivo(1,73%) e superior(0,6%).\n",
    "#Não Tem Celular = 320 aposentados: fundamental(73,43%), médio(23,12%), supletivo(2,18%) e superior(1,25).\n"
   ]
  },
  {
   "cell_type": "code",
   "execution_count": 516,
   "metadata": {
    "collapsed": false
   },
   "outputs": [
    {
     "data": {
      "text/plain": [
       "<matplotlib.axes._subplots.AxesSubplot at 0x229a04c60b8>"
      ]
     },
     "execution_count": 516,
     "metadata": {},
     "output_type": "execute_result"
    },
    {
     "data": {
      "image/png": "[encoded data removed]",
      "text/plain": [
       "<matplotlib.figure.Figure at 0x229a04e6198>"
      ]
     },
     "metadata": {},
     "output_type": "display_data"
    }
   ],
   "source": [
    "x1.plot(kind='bar', stacked=True,  figsize= ([8,8]))\n",
    "#Este gráfico nos da uma noção mais tangível de que grau de escolaridade não é um empecilho para o acesso a tecnologia. "
   ]
  },
  {
   "cell_type": "code",
   "execution_count": 519,
   "metadata": {
    "collapsed": false
   },
   "outputs": [
    {
     "data": {
      "text/html": [
       "<div>\n",
       "<table border=\"1\" class=\"dataframe\">\n",
       "  <thead>\n",
       "    <tr style=\"text-align: right;\">\n",
       "      <th>SABE LER/ESCREVER</th>\n",
       "      <th>Saber Ler</th>\n",
       "      <th>Não Sabe Ler</th>\n",
       "    </tr>\n",
       "    <tr>\n",
       "      <th>TEM CELULAR</th>\n",
       "      <th></th>\n",
       "      <th></th>\n",
       "    </tr>\n",
       "  </thead>\n",
       "  <tbody>\n",
       "    <tr>\n",
       "      <th>Tem Celular</th>\n",
       "      <td>1515</td>\n",
       "      <td>134</td>\n",
       "    </tr>\n",
       "    <tr>\n",
       "      <th>Não tem celular</th>\n",
       "      <td>432</td>\n",
       "      <td>104</td>\n",
       "    </tr>\n",
       "  </tbody>\n",
       "</table>\n",
       "</div>"
      ],
      "text/plain": [
       "SABE LER/ESCREVER  Saber Ler  Não Sabe Ler\n",
       "TEM CELULAR                               \n",
       "Tem Celular             1515           134\n",
       "Não tem celular          432           104"
      ]
     },
     "execution_count": 519,
     "metadata": {},
     "output_type": "execute_result"
    }
   ],
   "source": [
    "x4 = pd.crosstab(celular, leitura)\n",
    "x4\n",
    "#Este crosstab é muito importante para a pesquisa pois, ele nos apresenta que pessoas não afabetizadas, ou seja, que não saber ler/escrever também utilizam tecnologia(56,3%). \n",
    "#Tem celular = 1649: Sabem ler(91,87%) e não sabem ler(8,13%).\n",
    "#Não tem celular = 536: Sabem ler(80,59%) e não sabem ler(19,4%).\n",
    "#Não saber ler = 238: Tem celular(56,3%) e não tem celular(43,69%)."
   ]
  },
  {
   "cell_type": "code",
   "execution_count": 520,
   "metadata": {
    "collapsed": false
   },
   "outputs": [
    {
     "data": {
      "text/plain": [
       "<matplotlib.axes._subplots.AxesSubplot at 0x229a18d9f60>"
      ]
     },
     "execution_count": 520,
     "metadata": {},
     "output_type": "execute_result"
    },
    {
     "data": {
      "image/png": "[encoded data removed]",
      "text/plain": [
       "<matplotlib.figure.Figure at 0x229a19f0128>"
      ]
     },
     "metadata": {},
     "output_type": "display_data"
    }
   ],
   "source": [
    "x4.plot(kind='bar', stacked=True,  figsize= ([8,8]))\n",
    "#Este gráfico nos da uma noção mais tangível de que não ser alfabetizado, não é um empecilho para o acesso a tecnologia. "
   ]
  },
  {
   "cell_type": "code",
   "execution_count": 521,
   "metadata": {
    "collapsed": false
   },
   "outputs": [
    {
     "data": {
      "text/plain": [
       "<matplotlib.axes._subplots.AxesSubplot at 0x229a087d8d0>"
      ]
     },
     "execution_count": 521,
     "metadata": {},
     "output_type": "execute_result"
    },
    {
     "data": {
      "image/png": "[encoded data removed]",
      "text/plain": [
       "<matplotlib.figure.Figure at 0x229a08a60b8>"
      ]
     },
     "metadata": {},
     "output_type": "display_data"
    }
   ],
   "source": [
    "nomes[\"RENDIMENTO MENSAL\"] = nomes.V4750\n",
    "nomes[\"CURSO + ELEVADO\"] = y\n",
    "nomes[nomes.V4750!=999999999999].boxplot(column=\"RENDIMENTO MENSAL\", by = \"CURSO + ELEVADO\")\n",
    "\n",
    "#Neste bloxplot é possível percerber valores out lines em todos os níveis de ensino. Como o curso superior apresentou 11 aposentados, um número pequeno para a amostra. o nível superior não apresentou nenhum out line. \n",
    "#É visível que a maioria dos out lines se concentra onde a maioria do nível escolar dos aposentados também se contra. Nas classes de Ensino Fundamental e Ensino Médio. \n",
    "#Não podemos usar a média nesse gráfico, pois os valores out lines viezarião todos os valores da média\n",
    ". "
   ]
  },
  {
   "cell_type": "markdown",
   "metadata": {},
   "source": [
    "Conclusão: Com base nos estudos feitos na população de aposentados da PNAD de 2013, podemos afirmar que: A grande maioria 97% dos aposentados não cursarão o ensino superior. A ausência de um ensino mais avançado não impediu que os aposentados tivessem acesso a tecnologia. Aproximadamente 98% dos aposentados que estudaram até o ensino médio, possuem um celular. \n",
    "\n",
    "Um dado interessante é que 56,3% das pessoas que se declararam analfabetos utilizam celular. Este número nos diz que ser alfabetizado ou não, não é uma barreira para o uso de tecnologia. \n",
    "\n",
    "Outro dado curioso é que a grande maioria (75,9%) dos aposentados se declara solteiros. Contrariando o sendo comum de que esse público de estudo seria formado na sua maioria de casados, separados e viuvos. "
   ]
  },
  {
   "cell_type": "code",
   "execution_count": null,
   "metadata": {
    "collapsed": true
   },
   "outputs": [],
   "source": []
  }
 ],
 "metadata": {
  "anaconda-cloud": {},
  "kernelspec": {
   "display_name": "Python [Root]",
   "language": "python",
   "name": "Python [Root]"
  },
  "language_info": {
   "codemirror_mode": {
    "name": "ipython",
    "version": 3
   },
   "file_extension": ".py",
   "mimetype": "text/x-python",
   "name": "python",
   "nbconvert_exporter": "python",
   "pygments_lexer": "ipython3",
   "version": "3.5.2"
  }
 },
 "nbformat": 4,
 "nbformat_minor": 0
}
