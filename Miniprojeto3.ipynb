{
 "cells": [
  {
   "cell_type": "markdown",
   "metadata": {},
   "source": [
    "# MiniProjeto 3 - Bootstrapping\n",
    "\n",
    "## Objetivo\n",
    "\n",
    "O objetivo deste projeto é entender e implementar o método bootstrapping. \n",
    "\n",
    "Problema: a amostra abaixo representa o tempo medido de abertura do software de vendas de uma empresa em minutos."
   ]
  },
  {
   "cell_type": "code",
   "execution_count": 33,
   "metadata": {
    "collapsed": false
   },
   "outputs": [
    {
     "name": "stdout",
     "output_type": "stream",
     "text": [
      "Média: 0.5453557469230769\n",
      "Desvio Padrão: 0.2547555304406469\n"
     ]
    },
    {
     "data": {
      "text/plain": [
       "<matplotlib.axes._subplots.AxesSubplot at 0x17bef25fc18>"
      ]
     },
     "execution_count": 33,
     "metadata": {},
     "output_type": "execute_result"
    },
    {
     "data": {
      "image/png": "[encoded data removed]",
      "text/plain": [
       "<matplotlib.figure.Figure at 0x17bf104bf98>"
      ]
     },
     "metadata": {},
     "output_type": "display_data"
    }
   ],
   "source": [
    "%matplotlib inline\n",
    "import pandas as pd\n",
    "import numpy as np\n",
    "from scipy.stats import beta\n",
    "from scipy import linspace\n",
    "\n",
    "x = [0.69689142,  0.57995802,  0.06450754,  0.61206626,  0.91976314,  0.34363861,  0.82575631,  0.41666036,  \n",
    "     0.62153527,  0.56757104,  0.86683518,  0.28922458,  0.28521698]\n",
    "\n",
    "n = len(x)\n",
    "\n",
    "print(\"Média: {0}\".format(np.mean(x)))\n",
    "print(\"Desvio Padrão: {0}\".format(np.std(x, ddof=1)))\n",
    "pd.Series(x).hist(normed=True)"
   ]
  },
  {
   "cell_type": "markdown",
   "metadata": {},
   "source": [
    "Excepcionalmente hoje, os usuários estavam reclamando de lentidão no sistema, pois ao abrir o programa demorava em média 0.68 minutos com um desvio padrão de 0.27 minutos. Usando um nível de significância de 95%, podemos afirmar que há algum problema estrutural?\n",
    "\n",
    "Para realizar o Teste de Hipóteses, temos as premissas:\n",
    "\n",
    "$$\\bar{X}=\\frac{\\sum_{i=1}^nX_i}{n}$$\n",
    "\n",
    "Onde $X_i$ é uma variável aleatória de uma distribuição **desconhecida**. Se $X_i$ fosse uma normal com apenas a variância desconhecida, deveríamos utilizar o teste T. Ou ainda, se n fosse suficientemente grande, poderíamos assumir que $\\bar{X}$ é normal devido ao TLC. Porém sem as premissas anteriores, devemos utilizar um método não paramétrico para realizar inferência sobre $\\bar{X}$.\n",
    "\n",
    "Bootstrapping é um método de reamostragem com reposição que consiste em recuperar a distribuição de uma medida de interesse a partir de uma amostra mestre. Com reposição significa que um mesmo elemento pode ser selecionado várias vezes, assim como outro elemento pode não ser escolhido.\n",
    "\n",
    "Dada uma amostra aleatória $x_1, x_2,..., x_n$ de uma população qualquer, devemos sortear consecutivamente, com reposição, conjuntos de tamanho também n dessa amostra. Aplicando a medida de interesse sobre as reamostragens, teremos uma distribuição da medida desejada. E com a distribuição, podemos calcular o intervalo de confiança através dos seus percentis.\n",
    "\n",
    "Portanto usaremos o método de Bootstrapping para responder à pergunta acima.\n",
    "\n",
    "Este projeto é individual.\n",
    "\n",
    "## O que deve ser feito\n",
    "\n",
    "1. Usando a amostra mestre acima, implementar o bootstrapping para **média** e **variância**, considerando a população desconhecida. Realizar 10000 sorteios com reposição. Usar a função choice() do numpy.\n",
    "2. Gerar os histogramas das amostras obtidas acima.\n",
    "3. Montar o intervalo de confiança para um nível de significância de 95% bicaudal. Responder a pergunta abaixo.\n",
    "3. Para efeito de comparação, considerar X como uma variável Beta de parâmetros a=2 e b=2. Sortear 10000 amostras de tamanho n e gerar os histogramas da média e da variância amostral.\n",
    "4. Comentar os resultados. Há viés (bias)? Que outras medidas posso utilizar no bootstrapping?\n",
    "\n",
    "## Entregáveis esperados e datas\n",
    "\n",
    "Item | Data | Descrição\n",
    "---|---|---\n",
    "Entrega| 17/09/2016| Notebook completo com os itens descritos acima via Blackboard.\n"
   ]
  },
  {
   "cell_type": "code",
   "execution_count": 54,
   "metadata": {
    "collapsed": false
   },
   "outputs": [
    {
     "name": "stdout",
     "output_type": "stream",
     "text": [
      "0.412718455692\n",
      "0.675232745288\n"
     ]
    },
    {
     "data": {
      "image/png": "[encoded data removed]",
      "text/plain": [
       "<matplotlib.figure.Figure at 0x17bf28a95f8>"
      ]
     },
     "metadata": {},
     "output_type": "display_data"
    }
   ],
   "source": [
    "x = [0.69689142,  0.57995802,  0.06450754,  0.61206626,  0.91976314,  0.34363861,  0.82575631,  0.41666036,  \n",
    "     0.62153527,  0.56757104,  0.86683518,  0.28922458,  0.28521698]\n",
    "\n",
    "sel = []\n",
    "\n",
    "for i in range(10000):\n",
    "     sel.append(np.random.choice(x, size = n, replace=True))\n",
    "me=[]\n",
    "for m in sel:\n",
    "    me.append(m.mean())\n",
    "\n",
    "pd.Series(me).hist(normed=True)\n",
    "\n",
    "print(np.percentile(me, 2.5))\n",
    "print(np.percentile(me, 97.5))\n"
   ]
  },
  {
   "cell_type": "code",
   "execution_count": 55,
   "metadata": {
    "collapsed": false
   },
   "outputs": [
    {
     "data": {
      "text/plain": [
       "<matplotlib.axes._subplots.AxesSubplot at 0x17bf2686d68>"
      ]
     },
     "execution_count": 55,
     "metadata": {},
     "output_type": "execute_result"
    },
    {
     "data": {
      "image/png": "[encoded data removed]",
      "text/plain": [
       "<matplotlib.figure.Figure at 0x17bf2327588>"
      ]
     },
     "metadata": {},
     "output_type": "display_data"
    }
   ],
   "source": [
    "n = 13\n",
    "matriz2=beta.rvs(2,2,size=(10000,13))\n",
    "va_am=[]\n",
    "for a in range (10000):\n",
    "    va_am.append(matriz2[a,:].mean())\n",
    "pd.Series(va_am).hist(normed=True)\n",
    "pd.Series(me).hist(normed=True)"
   ]
  },
  {
   "cell_type": "code",
   "execution_count": 57,
   "metadata": {
    "collapsed": false
   },
   "outputs": [
    {
     "name": "stdout",
     "output_type": "stream",
     "text": [
      "0.0242781965935\n",
      "0.0927725085667\n"
     ]
    },
    {
     "data": {
      "image/png": "[encoded data removed]",
      "text/plain": [
       "<matplotlib.figure.Figure at 0x17bf3e5de48>"
      ]
     },
     "metadata": {},
     "output_type": "display_data"
    }
   ],
   "source": [
    "\n",
    "y = []\n",
    "\n",
    "for i in range(10000):\n",
    "     y.append(np.random.choice(x, size = n, replace=True))\n",
    "me_var=[]\n",
    "for m in y:\n",
    "    me_var.append(m.var())\n",
    "\n",
    "pd.Series(me_var).hist(normed=True)\n",
    "\n",
    "print(np.percentile(me_var, 2.5))\n",
    "print(np.percentile(me_var, 97.5))"
   ]
  },
  {
   "cell_type": "code",
   "execution_count": 59,
   "metadata": {
    "collapsed": false
   },
   "outputs": [
    {
     "data": {
      "text/plain": [
       "0.0729"
      ]
     },
     "execution_count": 59,
     "metadata": {},
     "output_type": "execute_result"
    }
   ],
   "source": [
    "0.27**2"
   ]
  },
  {
   "cell_type": "code",
   "execution_count": null,
   "metadata": {
    "collapsed": true
   },
   "outputs": [],
   "source": []
  },
  {
   "cell_type": "code",
   "execution_count": 58,
   "metadata": {
    "collapsed": false
   },
   "outputs": [
    {
     "data": {
      "text/plain": [
       "<matplotlib.axes._subplots.AxesSubplot at 0x17bf3f0d160>"
      ]
     },
     "execution_count": 58,
     "metadata": {},
     "output_type": "execute_result"
    },
    {
     "data": {
      "image/png": "[encoded data removed]",
      "text/plain": [
       "<matplotlib.figure.Figure at 0x17bf3f14588>"
      ]
     },
     "metadata": {},
     "output_type": "display_data"
    }
   ],
   "source": [
    "n = 13\n",
    "matriz=beta.rvs(2,2,size=(10000,12))\n",
    "va_am2=[]\n",
    "for a in range (10000):\n",
    "    va_am2.append(matriz[a,:].var(ddof=1))\n",
    "pd.Series(va_am2).hist(normed=True)\n",
    "pd.Series(me_var).hist(normed=True)\n"
   ]
  },
  {
   "cell_type": "code",
   "execution_count": null,
   "metadata": {
    "collapsed": true
   },
   "outputs": [],
   "source": []
  }
 ],
 "metadata": {
  "anaconda-cloud": {},
  "kernelspec": {
   "display_name": "Python [Root]",
   "language": "python",
   "name": "Python [Root]"
  },
  "language_info": {
   "codemirror_mode": {
    "name": "ipython",
    "version": 3
   },
   "file_extension": ".py",
   "mimetype": "text/x-python",
   "name": "python",
   "nbconvert_exporter": "python",
   "pygments_lexer": "ipython3",
   "version": "3.5.2"
  }
 },
 "nbformat": 4,
 "nbformat_minor": 0
}
